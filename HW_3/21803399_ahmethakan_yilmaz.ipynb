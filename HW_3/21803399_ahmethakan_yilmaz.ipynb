{
  "cells": [
    {
      "cell_type": "markdown",
      "metadata": {
        "id": "YmlJ7FFJGA3k"
      },
      "source": [
        "**<h1><center>CS 464</center></h1>**\n",
        "**<h1><center>Introduction to Machine Learning</center></h1>**\n",
        "**<h1><center>Spring 2022</center></h1>**\n",
        "**<h1><center>Homework 3</center></h1>**\n",
        "<h4><center>Due: DEC 23, 2022 23:59 (GMT+3)</center></h4>"
      ]
    },
    {
      "cell_type": "markdown",
      "metadata": {
        "id": "LxSgl3smH_qk"
      },
      "source": [
        "In this third homework assignment, you are asked to develop a system that can be used to supply additional information to weather forecasts. For this task, you are provided a dataset that consists of weather images that belong to four different weather conditions: [cloudy, rain, shiny, sunrise]. Your model will classify images considering these class labels. \n",
        "\n",
        "For this assignment, **using PyTorch is mandatory.**\n",
        "\n",
        "**Tip:** You may experience latencies in file I/O if you are using Google Colab. In this regard, we recommend you upload your data to Google Drive as a zip file and unzip the folder contents in your drive. If you would like to upload the data files separately, it may take significant time.\n",
        "\n",
        "You will submit a single ipynb file as the homework submission. If you want to provide further explanation about your work, you can add Markdown cells to do so. [Here](https://www.markdownguide.org/), you can find a guide for Markdown syntax. Upload your homework with the following filename convention: \\<BilkentID\\>\\_\\<Name\\>\\_\\<Surname\\>.ipynb\n",
        "\n",
        "**Contact:**\n",
        "- [Yusuf Dalva](mailto:yusuf.dalva@bilkent.edu.tr)\n",
        "- [Ahmet Burak Yıldırım](mailto:a.yildirim@bilkent.edu.tr)\n",
        "\n",
        "**Dataset**<br>\n",
        "You can find the dataset [here](https://www.kaggle.com/datasets/pratik2901/multiclass-weather-dataset). \n"
      ]
    },
    {
      "cell_type": "markdown",
      "source": [
        "# **ReadMe** ❗❗\n",
        "🛑 In the code cells before Q1 I uploaded dataset to my drive and unzip it to drive.\n",
        "\n",
        "🛑 For Load Data part after writing the CustomDataset class I wrote another code cell for getting the data from datasets and divided them according to the training,validation and test sets ratios. After that I shuffled the sets there and I did not need to make shuffle when creating DataLoader obejcts. I also initialized the transform in that cell which will be applied in getItem function of CustomDateset objects.\n",
        "\n",
        "🛑 For each sections training parts ( FCN,CNN and TL ) I wrote 2 code cells. In the first code cells, I tried to find best hyperparameters and in the second cell after I got the optimal hyperparameters I trained the model according to those parameters. I selected my criterion as **accuracy** rate. I could have saved models in just first code cell and use it for testing but I preferred training the model again with optimal parameters as in the homework it is not wanted from us to submit model.pth files. However, there is a drawback of that approach that I did not expect to encounter. After I trained with optimal hyperparameters I did not get exactly same rates( in same sets) with when I trained to select hyperparameters even though I used same hyperparameters. I think the reason behind that is randomity of the initial models' parameters when I initialize models. This causes models not to be exactly same even though they are trained with same procedure and same hyperparameters.\n",
        "\n",
        "🛑 For FCN and CNN I tried 6 different situations for 2 hyperparameters which are learning size and train_batch size. For learning rate I tried ( 5e-2,5e-3,5e-4) and for batch sizes ( 32,64,128) and set epoch number to 100. I did not change weight_decay and momentum so they were their default values which is 0. I set epoch size to 100 and printed accuracy and loss values in every 5 epochs in both training and validation sets. Training the FCN model and selecting hyperparameters approximately took 4 hours and training CNN model and selecting hyperparameters approximately took 8 hours. For transfer learning, altough I just replaced the final layer it was taking much more time according to FCN and CNN models and in first epochs accuracy rate was already very high so I decided to decrease epoch number to 30 and try in 4 different situations (32,64) for batch size and (5e-2,5e-3) for learning rates to decide optimal hyperparameters. \n",
        "\n",
        "🛑 In training parts, I preffered to calculate accuracy and loss values of training set while I make training in the epoches to make things faster. After every epoch finishes I calculated accuracy and loss values of the validation set. So it is the reason behind why training sets' accuracy starts lower and loss starts higher. Printed losses are loss per sample.\n",
        "\n",
        "\n",
        "\n",
        "\n",
        "\n",
        "\n",
        "\n",
        "\n",
        "\n"
      ],
      "metadata": {
        "id": "ajy1hc5VNENt"
      }
    },
    {
      "cell_type": "code",
      "execution_count": null,
      "metadata": {
        "colab": {
          "base_uri": "https://localhost:8080/"
        },
        "id": "8wse6uiFZeRL",
        "outputId": "161653d4-e13f-4f01-bc77-c9ed05bb9591"
      },
      "outputs": [
        {
          "name": "stdout",
          "output_type": "stream",
          "text": [
            "Looking in indexes: https://pypi.org/simple, https://us-python.pkg.dev/colab-wheels/public/simple/\n",
            "Requirement already satisfied: kaggle in /usr/local/lib/python3.8/dist-packages (1.5.12)\n",
            "Requirement already satisfied: urllib3 in /usr/local/lib/python3.8/dist-packages (from kaggle) (1.24.3)\n",
            "Requirement already satisfied: tqdm in /usr/local/lib/python3.8/dist-packages (from kaggle) (4.64.1)\n",
            "Requirement already satisfied: six>=1.10 in /usr/local/lib/python3.8/dist-packages (from kaggle) (1.15.0)\n",
            "Requirement already satisfied: requests in /usr/local/lib/python3.8/dist-packages (from kaggle) (2.23.0)\n",
            "Requirement already satisfied: certifi in /usr/local/lib/python3.8/dist-packages (from kaggle) (2022.9.24)\n",
            "Requirement already satisfied: python-slugify in /usr/local/lib/python3.8/dist-packages (from kaggle) (7.0.0)\n",
            "Requirement already satisfied: python-dateutil in /usr/local/lib/python3.8/dist-packages (from kaggle) (2.8.2)\n",
            "Requirement already satisfied: text-unidecode>=1.3 in /usr/local/lib/python3.8/dist-packages (from python-slugify->kaggle) (1.3)\n",
            "Requirement already satisfied: chardet<4,>=3.0.2 in /usr/local/lib/python3.8/dist-packages (from requests->kaggle) (3.0.4)\n",
            "Requirement already satisfied: idna<3,>=2.5 in /usr/local/lib/python3.8/dist-packages (from requests->kaggle) (2.10)\n"
          ]
        }
      ],
      "source": [
        "! pip install kaggle"
      ]
    },
    {
      "cell_type": "code",
      "execution_count": null,
      "metadata": {
        "colab": {
          "base_uri": "https://localhost:8080/"
        },
        "id": "64Y1KOcFQh8B",
        "outputId": "36d54a60-b283-42b3-c29f-3089b5b8a50c"
      },
      "outputs": [
        {
          "output_type": "stream",
          "name": "stdout",
          "text": [
            "Mounted at /content/drive\n"
          ]
        }
      ],
      "source": [
        "from google.colab import drive\n",
        "drive.mount('/content/drive')"
      ]
    },
    {
      "cell_type": "code",
      "execution_count": null,
      "metadata": {
        "id": "CsasjMceaATw"
      },
      "outputs": [],
      "source": [
        "from google.colab import files\n",
        "files.upload()"
      ]
    },
    {
      "cell_type": "code",
      "execution_count": null,
      "metadata": {
        "colab": {
          "base_uri": "https://localhost:8080/"
        },
        "id": "2xE6hE4VVXs5",
        "outputId": "b6f3fd61-95f4-42bf-a09b-0987cabc1619"
      },
      "outputs": [
        {
          "name": "stdout",
          "output_type": "stream",
          "text": [
            "mkdir: cannot create directory ‘/root/.kaggle’: File exists\n"
          ]
        }
      ],
      "source": [
        "! mkdir ~/.kaggle"
      ]
    },
    {
      "cell_type": "code",
      "execution_count": null,
      "metadata": {
        "id": "iSsealAhVZ5x"
      },
      "outputs": [],
      "source": [
        "! cp kaggle.json ~/.kaggle/"
      ]
    },
    {
      "cell_type": "code",
      "execution_count": null,
      "metadata": {
        "id": "sZ4pdO_uXcGF"
      },
      "outputs": [],
      "source": [
        "! chmod 600 ~/.kaggle/kaggle.json"
      ]
    },
    {
      "cell_type": "code",
      "execution_count": null,
      "metadata": {
        "colab": {
          "base_uri": "https://localhost:8080/"
        },
        "id": "uWgsDjRcaMNj",
        "outputId": "f1195fa6-8706-4a6f-9f8c-e1a8a9af8c7c"
      },
      "outputs": [
        {
          "name": "stdout",
          "output_type": "stream",
          "text": [
            "Downloading multiclass-weather-dataset.zip to /content\n",
            " 81% 74.0M/91.4M [00:00<00:00, 154MB/s] \n",
            "100% 91.4M/91.4M [00:00<00:00, 158MB/s]\n"
          ]
        }
      ],
      "source": [
        "! kaggle datasets download -d pratik2901/multiclass-weather-dataset\n"
      ]
    },
    {
      "cell_type": "code",
      "execution_count": null,
      "metadata": {
        "id": "YwvvYPXiaYf8"
      },
      "outputs": [],
      "source": [
        "! unzip /content/multiclass-weather-dataset.zip"
      ]
    },
    {
      "cell_type": "markdown",
      "metadata": {
        "id": "kUQigqxM4JlE"
      },
      "source": [
        "# **Q1** [12 points]\n",
        "This part consists of 4 questions which you are expected to answer. Please fill in the following cell in Markdown format. Each question is worth 2 points."
      ]
    },
    {
      "cell_type": "markdown",
      "metadata": {
        "id": "3ZcbkhwkbQ4m"
      },
      "source": [
        "a) Do we need to output the actual probability values when performing classification with the softmax layer? If not, how do these numbers represent the likelihood of classes? Also, does the output values should be in a specific range for us to make a classification? <br>\n",
        "\n",
        "b) From the perspective of model complexity, how you can identify when a model underfits or overfits? Which plots are informative for detecting this behavior? <br>\n",
        "\n",
        "c) In neural networks, how does the ReLU function help us to generalize to conplex feature spaces? Why we are not using linear layers only? <br>\n",
        "\n",
        "d) Assume that you are going to pass the feature matrix with dimensions 64x64x5 (Height x Width x Channel size) through a convolutional layer. If our convolutional layer has a kernel size of 3x3 and the number of filters is 6, how many learnable parameters are present? <br>"
      ]
    },
    {
      "cell_type": "markdown",
      "metadata": {
        "id": "bI0rpMmS_fjV"
      },
      "source": [
        "a) Outputs of softmax layer is like a probability distribution over the possible classes. Output values represent the likelihood of each class, with higher values indicating a more possibility. It is not necessary to output the actual probability values in order to use the softmax layer for classification. Instead, we can choose the class with the highest value to classify. Outputs will be always in the range of 0 to 1. And sum of outputs are 1. If we say there are n classes then, output value at least should bigger or equal to than 1/n to be biggest output value. But being bigger than 1/n is not enough to be biggest output value.\n",
        "\n",
        "\n",
        "\n",
        "\n",
        "\n"
      ]
    },
    {
      "cell_type": "markdown",
      "metadata": {
        "id": "EN4drspdAd7l"
      },
      "source": [
        "b) Overfitting occurs when a model is too complex or has too many parameters compared to the amount of data it is being trained on. In this case, the model will perform well on the training data, but it will not perform well on new data. So model will not be able to make accurate predictions on data it has not seen before. Underfitting happens when a model is not complex enough to fit with the underlying patterns in the data. In underfitting model will not perform well on the training data, and it will not be able to make accurate classifications on new data. Accuracy plots can be useful for detecting overfitting or underfitting. If accuracy is high in training and low in test set then it may be overfitting. If accuracy is low in training and low in test set then it may be underfitting.\n"
      ]
    },
    {
      "cell_type": "markdown",
      "metadata": {
        "id": "AreUxng_A5F-"
      },
      "source": [
        "c) Relu function is not linear so it can learn more complex relationships between input and output data. With using the ReLU function, neural networks can learn more complex patterns from the datasets than linear models can learn. Also Relu function can improve the training speed of when deling with complex models."
      ]
    },
    {
      "cell_type": "markdown",
      "metadata": {
        "id": "9dn35jN_BHDG"
      },
      "source": [
        "d) So we have 5 inputs as input channels, we have filter size *filter number = 6.3.3 = 54 outputs. If we multiply 64 outputs with our 5 inputs and we have 54.5 = 270 learnable parameters. If we add the biases which is the filter number we get 270+6 = 276 is total learnable parameters."
      ]
    },
    {
      "cell_type": "markdown",
      "metadata": {
        "id": "Qx_XrpE44TlW"
      },
      "source": [
        "# **Q2** [88 points]"
      ]
    },
    {
      "cell_type": "markdown",
      "metadata": {
        "id": "whvv0wjpDWC_"
      },
      "source": [
        "## Necessary Imports\n",
        "In the cell below, we import some utilities that you can make use of in this assignment. Note that you need to use PyTorch in this assignment. To report certain metrics (like precision, recall, accuracy) you may use utilities from *scikit-learn* library. You can edit these imports considering your implementation as long as you use PyTorch."
      ]
    },
    {
      "cell_type": "markdown",
      "metadata": {
        "id": "ByxehL1b4b2X"
      },
      "source": [
        "## Setup"
      ]
    },
    {
      "cell_type": "code",
      "execution_count": 3,
      "metadata": {
        "id": "Jk_nY5kj70sX"
      },
      "outputs": [],
      "source": [
        "import os \n",
        "import time\n",
        "import random\n",
        "\n",
        "import numpy as np\n",
        "from PIL import Image\n",
        "import matplotlib.pyplot as plt\n",
        "\n",
        "import torch\n",
        "import torch.nn as nn\n",
        "import torch.nn.functional as F\n",
        "import torchvision.models as models\n",
        "from torch.utils.data import Dataset, DataLoader\n",
        "\n",
        "from sklearn.model_selection import train_test_split\n",
        "from sklearn.metrics import confusion_matrix, f1_score, precision_score, recall_score, accuracy_score"
      ]
    },
    {
      "cell_type": "markdown",
      "metadata": {
        "id": "yAve2XUl9spy"
      },
      "source": [
        "You can test whether hardware acceleration with GPU is enabled in the cell below. In addition, if you have GPU access, you can check the amount of available GPU memory."
      ]
    },
    {
      "cell_type": "code",
      "execution_count": null,
      "metadata": {
        "colab": {
          "base_uri": "https://localhost:8080/"
        },
        "id": "0XJ4Hihx5q-2",
        "outputId": "ae362ef5-228e-450b-8da7-8f4667ad65c8"
      },
      "outputs": [
        {
          "output_type": "stream",
          "name": "stdout",
          "text": [
            "Using device: cpu\n"
          ]
        }
      ],
      "source": [
        "# setting device as GPU if available, else CPU\n",
        "device = torch.device('cuda' if torch.cuda.is_available() else 'cpu')\n",
        "print('Using device:', device)\n",
        "\n",
        "# CUDA device information\n",
        "if device.type == 'cuda':\n",
        "    print('GPU Name:', torch.cuda.get_device_name(0))\n",
        "    print('Memory Stats:')\n",
        "    print('  - Allocated:', round(torch.cuda.memory_allocated(0)/1024**3,1), 'GB')\n",
        "    print('  - Cached:   ', round(torch.cuda.memory_reserved(0)/1024**3,1), 'GB')\n",
        "    print('  - Total:    ', round(torch.cuda.get_device_properties(0).total_memory/1024**3,1), 'GB')"
      ]
    },
    {
      "cell_type": "markdown",
      "metadata": {
        "id": "-wVIFjmb-CJI"
      },
      "source": [
        "**DO NOT CHANGE**<br>\n",
        "To evaluate your implementation fairly, we set seed values for random sampling methods in PyTorch, Numpy, and Python random library. These seeds are set to evaluate your models successfully, so do not change these values."
      ]
    },
    {
      "cell_type": "code",
      "execution_count": null,
      "metadata": {
        "id": "4NiPHoaY5q8G"
      },
      "outputs": [],
      "source": [
        "# for reproducable results\n",
        "torch.manual_seed(464)\n",
        "torch.cuda.manual_seed(464)\n",
        "np.random.seed(464)\n",
        "random.seed(464)\n",
        "if device.type == 'cuda':\n",
        "    torch.backends.cudnn.deterministic=True"
      ]
    },
    {
      "cell_type": "markdown",
      "metadata": {
        "id": "Bbgnyp5J4fMb"
      },
      "source": [
        "## Load Data [6 points]\n",
        "In this assignment, you will use a custom dataset, which you need a wrapper class to access its data. For this purpose, implement a custom dataset class to organize data with the specifications you need. This class will load batches of data using a PyTorch DataLoader later. The class signature of CustomDataset class is provided to you in the cell below, where you can implement your custom dataset.\n",
        "\n",
        "**IMPORTANT:** As you may have difficulties while fitting all images to your RAM, you need to read the images while getting that item (each item is an image here). We encourage you to read the data files in the \"__getitem__\" function to avoid encountering any issues related to fitting the data to memory. This way, you do not need to hold the dataset in a single variable, which would be memory intensive."
      ]
    },
    {
      "cell_type": "code",
      "execution_count": null,
      "metadata": {
        "id": "iEgUvtFR8uY_"
      },
      "outputs": [],
      "source": [
        "import os\n",
        "\n",
        "import glob\n",
        "from torchvision import datasets, transforms, models\n",
        "class CustomDataset(Dataset):\n",
        "    def __init__(self, data, labels, transform=None):\n",
        "        self.data = data\n",
        "        self.labels = labels\n",
        "        self.transform = transform\n",
        "        \n",
        "    \n",
        "    def __len__(self):\n",
        "        return len( self.data)\n",
        "    \n",
        "    def __getitem__(self, idx):\n",
        "        image_path = self.data[idx]\n",
        "        label = self.labels[idx]\n",
        "\n",
        "        image = Image.open(image_path)\n",
        "        image = image.convert('RGB')\n",
        "        if self.transform:\n",
        "            image = self.transform(image)\n",
        "\n",
        "        return image, label\n",
        "        \n",
        "\n"
      ]
    },
    {
      "cell_type": "code",
      "execution_count": null,
      "metadata": {
        "id": "EOpTwqh3pTdc"
      },
      "outputs": [],
      "source": [
        "classes = (\"Cloudy\",\"Rain\",\"Shine\",\"Sunrise\")\n",
        "datapath = \"/content/drive/MyDrive/HW3/Multi-class Weather Dataset\"\n",
        "file_paths = []\n",
        "train_set = []\n",
        "val_set =  []\n",
        "test_set = []\n",
        "sum = 0\n",
        "for folder_name in classes:\n",
        "  file_paths = []\n",
        "  folder_path = os.path.join(datapath,folder_name)\n",
        "  filenames = os.listdir(folder_path)\n",
        "\n",
        "        # construct the full paths to the files\n",
        "  folder_file_paths = [os.path.join(folder_path, filename) for filename in filenames]\n",
        "  file_paths.extend(folder_file_paths)\n",
        "\n",
        "\n",
        "  num_samples = len(filenames)\n",
        "  train_size = int(0.7 * num_samples)\n",
        "  val_size = int(0.1 * num_samples)\n",
        "  test_size = num_samples - train_size - val_size\n",
        "  train_setS, val_setS, test_setS = torch.utils.data.random_split(file_paths, [train_size, val_size, test_size])\n",
        "  train_set.extend(train_setS)\n",
        "  val_set.extend(val_setS)\n",
        "  test_set.extend(test_setS)\n",
        "\n",
        "\n",
        "random.shuffle(train_set)\n",
        "random.shuffle(test_set)\n",
        "random.shuffle(val_set)\n",
        "\n",
        "train_labels = np.zeros(len(train_set))\n",
        "val_labels = np.zeros(len(val_set))\n",
        "test_labels = np.zeros(len(test_set))\n",
        "\n",
        "for i in range(0,len(train_labels)):\n",
        "  if train_set[i][len(datapath)+1:len(datapath)+7] == classes[0]:\n",
        "      train_labels[i] = 0\n",
        "  elif train_set[i][len(datapath)+1:len(datapath)+5] == classes[1]:\n",
        "      train_labels[i] = 1\n",
        "  elif train_set[i][len(datapath)+1:len(datapath)+6] == classes[2]:\n",
        "      train_labels[i] = 2\n",
        "  elif train_set[i][len(datapath)+1:len(datapath)+8] == classes[3]:\n",
        "      train_labels[i] = 3\n",
        "  else:\n",
        "      train_labels[i] = -1\n",
        "\n",
        "for i in range(0,len(val_labels)):\n",
        "  if val_set[i][len(datapath)+1:len(datapath)+7] == classes[0]:\n",
        "      val_labels[i] = 0\n",
        "  elif val_set[i][len(datapath)+1:len(datapath)+5] == classes[1]:\n",
        "      val_labels[i] = 1\n",
        "  elif val_set[i][len(datapath)+1:len(datapath)+6] == classes[2]:\n",
        "      val_labels[i] = 2\n",
        "  elif val_set[i][len(datapath)+1:len(datapath)+8] == classes[3]:\n",
        "      val_labels[i] = 3\n",
        "  else:\n",
        "      val_labels[i] = -1\n",
        "\n",
        "\n",
        "for i in range(0,len(test_labels)):\n",
        "  if test_set[i][len(datapath)+1:len(datapath)+7] == classes[0]:\n",
        "      test_labels[i] = 0\n",
        "  elif test_set[i][len(datapath)+1:len(datapath)+5] == classes[1]:\n",
        "      test_labels[i] = 1\n",
        "  elif test_set[i][len(datapath)+1:len(datapath)+6] == classes[2]:\n",
        "      test_labels[i] = 2\n",
        "  elif test_set[i][len(datapath)+1:len(datapath)+8] == classes[3]:\n",
        "      test_labels[i] = 3\n",
        "  else:\n",
        "      test_labels[i] = -1    \n",
        "\n",
        "\n",
        "transformation = transforms.Compose([transforms.Resize((224,224)),\n",
        "                                     transforms.RandomHorizontalFlip(p=1),\n",
        "                                      transforms.ToTensor(),\n",
        "                                      transforms.Normalize((0.5, 0.5, 0.5), (0.5, 0.5, 0.5))])\n"
      ]
    },
    {
      "cell_type": "markdown",
      "metadata": {
        "id": "H5aZOFJwEc_-"
      },
      "source": [
        "You can implement an additional function to read and construct custom dataset objects for training, validation, and test sets. While constructing the dataset, consider the following issues:\n",
        "- Dataset contains images that end with prefixes *.jpg* and *.jpeg*.\n",
        "- If you use PIL to read images, you should convert them to \"RGB\" format to operate on three color channels.\n",
        "- Resize the dataset images to 224x224. You are going to design models that take images with tensor shape 224x224x3.\n",
        "- If you wish, you can change the ordering of the color channels with np.moveaxis function\n",
        "\n",
        "Lastly, the train-validation-test split for the dataset provided to you is 70-10-20 in terms of percentages. While constructing the dataset, remember that shuffling is a necessary step (to get randomly distributed classes across batches).\n",
        "\n",
        "You can design your dataset getter method compatible with the line provided below, where train_dataset, val_dataset, and test_dataset are all instances of CustomDataset."
      ]
    },
    {
      "cell_type": "code",
      "execution_count": null,
      "metadata": {
        "id": "5icOihzMzqfe"
      },
      "outputs": [],
      "source": [
        "\n",
        "\n",
        "train_dataset = CustomDataset(data = train_set, labels = train_labels, transform = transformation)\n",
        "val_dataset = CustomDataset(data = val_set, labels = val_labels, transform = transformation)\n",
        "test_dataset = CustomDataset(data = test_set, labels = test_labels, transform = transformation)\n",
        "#train_dataset, val_dataset, test_dataset = None, None, None"
      ]
    },
    {
      "cell_type": "markdown",
      "metadata": {
        "id": "ltjHllVn4juX"
      },
      "source": [
        "## Models [16 points]\n",
        "In this assignment, you will implement one CNN (Convolutional Neural Network) model and one FCN (Fully-Connected Network) model, where the class signatures are provided below."
      ]
    },
    {
      "cell_type": "markdown",
      "metadata": {
        "id": "VY-2PQauFJWn"
      },
      "source": [
        "### Convolutional Neural Network (CNN) Model [8 points]\n",
        "As the first model, you will implement a convolutional model. Your model will include 3 CONV + POOL blocks, which denotes one Convolutional layer followed by a Max Pooling Layer. The channel sizes for convolutional blocks are [16, 32, 64], respectively. For all convolutional layers, take kernel size as 3, stride as one, and apply padding such that convolutions do not change the shape on width and height dimensions. \n",
        "<br><br>\n",
        "Following the convolutional part, you will perform image classification for the dataset provided to you. You can use ReLU activation as the non-linearity in your model (except the classification layer)."
      ]
    },
    {
      "cell_type": "code",
      "execution_count": 4,
      "metadata": {
        "id": "C1yM9RoqAYh8"
      },
      "outputs": [],
      "source": [
        "class ConvNet(nn.Module):\n",
        "    def __init__(self):\n",
        "        super().__init__()\n",
        "        self.conv1 = nn.Conv2d(3, 16, 3,1,1)\n",
        "        self.conv2 = nn.Conv2d(16, 32, 3,1,1)\n",
        "        self.conv3 = nn.Conv2d(32, 64, 3,1,1)\n",
        "        self.pool = nn.MaxPool2d(2, 2)\n",
        "        self.fc1 = nn.Linear(50176, 1024) \n",
        "        self.fc2 = nn.Linear(1024, 32)\n",
        "        self.fc3 = nn.Linear(32, 4)\n",
        "        \n",
        "     \n",
        "    def forward(self, x):\n",
        "        x = self.pool(F.relu(self.conv1(x)))\n",
        "        x = self.pool(F.relu(self.conv2(x)))\n",
        "        x = self.pool(F.relu(self.conv3(x)))\n",
        "        x = torch.flatten(x, 1)\n",
        "        x = F.relu(self.fc1(x))\n",
        "        x = F.relu(self.fc2(x))\n",
        "        x = self.fc3(x)\n",
        "        return x"
      ]
    },
    {
      "cell_type": "markdown",
      "metadata": {
        "id": "b7plNvDmGmMO"
      },
      "source": [
        "### Fully Connected Network (FCN) Model [8 points]\n",
        "The second model you will try is a Fully Connected Network composed of Linear layers and non-linear activation functions connected to each other. For this part, the number of features for your linear layers is [1024, 512, 256]. Again, you can use ReLU as your non-linear activation function in your model (except the classification layer)."
      ]
    },
    {
      "cell_type": "code",
      "execution_count": null,
      "metadata": {
        "id": "spwuuCJcb5H_"
      },
      "outputs": [],
      "source": [
        "class FCNet(nn.Module):\n",
        "    def __init__(self, input_size, output_size):\n",
        "      super().__init__()\n",
        "      self.fc1 = nn.Linear(input_size, 1024)\n",
        "      self.fc2 = nn.Linear(1024,512)\n",
        "      self.fc3 = nn.Linear(512,256)\n",
        "      self.fc4 = nn.Linear(256, output_size)\n",
        "     \n",
        "    def forward(self, x):\n",
        "      x = x.reshape(-1,150528)\n",
        "      x = F.relu(self.fc1(x))\n",
        "      x = F.relu(self.fc2(x))\n",
        "      x = F.relu(self.fc3(x))\n",
        "      x = self.fc4(x)\n",
        "      return x"
      ]
    },
    {
      "cell_type": "markdown",
      "metadata": {
        "id": "TAQDCw1AgAJV"
      },
      "source": [
        "## Training and Evaluation of FCN [22 points]\n",
        "\n",
        "Now that you implemented the model definition of CNN and FCN, you will train these models with the hyperparameters you chose. The hyperparameters that you may change are listed in the cell below. Using the FCN model defined, train a classifier that predicts weather condition classes specified by the dataset. For the optimizer, use [SGD](https://pytorch.org/docs/stable/generated/torch.optim.SGD.html) optimizer provided by PyTorch. You should try out different hyper-parameters like learning rates, epochs, momentum, and weight decay. For [momentum](https://machinelearningmastery.com/gradient-descent-with-momentum-from-scratch/) and [weight decay](https://paperswithcode.com/method/weight-decay), you can read about these concepts if you are interested.\n",
        "\n",
        "While training your model, save your best model over different epochs. You must select an appropriate metric to define the best model at a time step. You can implement the training procedure in the cell below. If you want to explain the reasoning behind your metric selection, you can add a markdown cell and provide your comments."
      ]
    },
    {
      "cell_type": "markdown",
      "source": [
        "🛑 I tried 6 different situations and at the end selected my hyperparameters according to the accuracy at the end of 100th epochs. So my criterion was getting the hyperparameters with the best validation accuracy at the end of trainings (100 epochs). It came out optimal learn rate is 0.05 and batch size is 64 for FCN model.\n"
      ],
      "metadata": {
        "id": "hwvaVWR8AFVo"
      }
    },
    {
      "cell_type": "markdown",
      "metadata": {
        "id": "QMin6YgCgAJa"
      },
      "source": [
        "### Training [12 points]"
      ]
    },
    {
      "cell_type": "code",
      "execution_count": null,
      "metadata": {
        "colab": {
          "base_uri": "https://localhost:8080/"
        },
        "id": "bmV69xm_gAJa",
        "outputId": "6dca83c3-e0a7-4145-83e3-9d6637409ab5"
      },
      "outputs": [
        {
          "name": "stdout",
          "output_type": "stream",
          "text": [
            "LR 0.05\n",
            "Epoch:(Training) 5. Loss: 0.6259466409683228. Accuracy: 86.00508905852418\n",
            "Epoch:(Validation)  5. Loss: 0.6770697832107544. Accuracy: 85.58558558558559\n",
            "Epoch:(Training) 10. Loss: 0.39710038900375366. Accuracy: 92.36641221374046\n",
            "Epoch:(Validation)  10. Loss: 0.7087348699569702. Accuracy: 85.58558558558559\n",
            "Epoch:(Training) 15. Loss: 0.10233576595783234. Accuracy: 98.47328244274809\n",
            "Epoch:(Validation)  15. Loss: 0.6678571105003357. Accuracy: 84.68468468468468\n",
            "Epoch:(Training) 20. Loss: 0.04435748979449272. Accuracy: 99.36386768447836\n",
            "Epoch:(Validation)  20. Loss: 0.7071231007575989. Accuracy: 85.58558558558559\n",
            "Epoch:(Training) 25. Loss: 0.014137188903987408. Accuracy: 100.0\n",
            "Epoch:(Validation)  25. Loss: 0.8078597187995911. Accuracy: 85.58558558558559\n",
            "Epoch:(Training) 30. Loss: 0.005547956097871065. Accuracy: 100.0\n",
            "Epoch:(Validation)  30. Loss: 0.7928271889686584. Accuracy: 84.68468468468468\n",
            "Epoch:(Training) 35. Loss: 0.003494555363431573. Accuracy: 100.0\n",
            "Epoch:(Validation)  35. Loss: 0.7986849546432495. Accuracy: 84.68468468468468\n",
            "Epoch:(Training) 40. Loss: 0.0025411818642169237. Accuracy: 100.0\n",
            "Epoch:(Validation)  40. Loss: 0.8065969944000244. Accuracy: 85.58558558558559\n",
            "Epoch:(Training) 45. Loss: 0.0019846437498927116. Accuracy: 100.0\n",
            "Epoch:(Validation)  45. Loss: 0.8154603838920593. Accuracy: 85.58558558558559\n",
            "Epoch:(Training) 50. Loss: 0.0016175085911527276. Accuracy: 100.0\n",
            "Epoch:(Validation)  50. Loss: 0.823930561542511. Accuracy: 85.58558558558559\n",
            "Epoch:(Training) 55. Loss: 0.0013579550432041287. Accuracy: 100.0\n",
            "Epoch:(Validation)  55. Loss: 0.8320925831794739. Accuracy: 86.48648648648648\n",
            "Epoch:(Training) 60. Loss: 0.0011661644093692303. Accuracy: 100.0\n",
            "Epoch:(Validation)  60. Loss: 0.839702844619751. Accuracy: 86.48648648648648\n",
            "Epoch:(Training) 65. Loss: 0.0010190708562731743. Accuracy: 100.0\n",
            "Epoch:(Validation)  65. Loss: 0.8465781807899475. Accuracy: 86.48648648648648\n",
            "Epoch:(Training) 70. Loss: 0.0009021105943247676. Accuracy: 100.0\n",
            "Epoch:(Validation)  70. Loss: 0.8536771535873413. Accuracy: 86.48648648648648\n",
            "Epoch:(Training) 75. Loss: 0.0008079794351942837. Accuracy: 100.0\n",
            "Epoch:(Validation)  75. Loss: 0.859835147857666. Accuracy: 86.48648648648648\n",
            "Epoch:(Training) 80. Loss: 0.0007299951976165175. Accuracy: 100.0\n",
            "Epoch:(Validation)  80. Loss: 0.8659011721611023. Accuracy: 86.48648648648648\n",
            "Epoch:(Training) 85. Loss: 0.0006647486006841063. Accuracy: 100.0\n",
            "Epoch:(Validation)  85. Loss: 0.8716153502464294. Accuracy: 86.48648648648648\n",
            "Epoch:(Training) 90. Loss: 0.0006095873541198671. Accuracy: 100.0\n",
            "Epoch:(Validation)  90. Loss: 0.8767915368080139. Accuracy: 86.48648648648648\n",
            "Epoch:(Training) 95. Loss: 0.0005624460172839463. Accuracy: 100.0\n",
            "Epoch:(Validation)  95. Loss: 0.8816254138946533. Accuracy: 86.48648648648648\n",
            "Epoch:(Training) 100. Loss: 0.0005212366813793778. Accuracy: 100.0\n",
            "Epoch:(Validation)  100. Loss: 0.8864262700080872. Accuracy: 86.48648648648648\n",
            "LR 0.005\n",
            "Epoch:(Training) 5. Loss: 1.2906298637390137. Accuracy: 69.08396946564885\n",
            "Epoch:(Validation)  5. Loss: 1.2343944311141968. Accuracy: 73.87387387387388\n",
            "Epoch:(Training) 10. Loss: 1.03609299659729. Accuracy: 77.35368956743002\n",
            "Epoch:(Validation)  10. Loss: 0.9543030261993408. Accuracy: 82.88288288288288\n",
            "Epoch:(Training) 15. Loss: 0.8765986561775208. Accuracy: 82.44274809160305\n",
            "Epoch:(Validation)  15. Loss: 0.8160862922668457. Accuracy: 87.38738738738739\n",
            "Epoch:(Training) 20. Loss: 0.7420642375946045. Accuracy: 85.24173027989822\n",
            "Epoch:(Validation)  20. Loss: 0.7265951633453369. Accuracy: 88.28828828828829\n",
            "Epoch:(Training) 25. Loss: 0.6243875026702881. Accuracy: 88.80407124681933\n",
            "Epoch:(Validation)  25. Loss: 0.6672884821891785. Accuracy: 89.1891891891892\n",
            "Epoch:(Training) 30. Loss: 0.5241693258285522. Accuracy: 90.71246819338423\n",
            "Epoch:(Validation)  30. Loss: 0.6301150918006897. Accuracy: 88.28828828828829\n",
            "Epoch:(Training) 35. Loss: 0.4385266602039337. Accuracy: 92.6208651399491\n",
            "Epoch:(Validation)  35. Loss: 0.6056382060050964. Accuracy: 88.28828828828829\n",
            "Epoch:(Training) 40. Loss: 0.3649550676345825. Accuracy: 93.89312977099236\n",
            "Epoch:(Validation)  40. Loss: 0.5903069972991943. Accuracy: 88.28828828828829\n",
            "Epoch:(Training) 45. Loss: 0.30151209235191345. Accuracy: 94.78371501272265\n",
            "Epoch:(Validation)  45. Loss: 0.5802886486053467. Accuracy: 87.38738738738739\n",
            "Epoch:(Training) 50. Loss: 0.24730847775936127. Accuracy: 96.56488549618321\n",
            "Epoch:(Validation)  50. Loss: 0.5745795369148254. Accuracy: 89.1891891891892\n",
            "Epoch:(Training) 55. Loss: 0.20134671032428741. Accuracy: 97.58269720101781\n",
            "Epoch:(Validation)  55. Loss: 0.5730008482933044. Accuracy: 89.1891891891892\n",
            "Epoch:(Training) 60. Loss: 0.1627262830734253. Accuracy: 98.34605597964376\n",
            "Epoch:(Validation)  60. Loss: 0.574817419052124. Accuracy: 89.1891891891892\n",
            "Epoch:(Training) 65. Loss: 0.13093781471252441. Accuracy: 98.85496183206106\n",
            "Epoch:(Validation)  65. Loss: 0.579467236995697. Accuracy: 88.28828828828829\n",
            "Epoch:(Training) 70. Loss: 0.10530830919742584. Accuracy: 98.9821882951654\n",
            "Epoch:(Validation)  70. Loss: 0.5854771137237549. Accuracy: 89.1891891891892\n",
            "Epoch:(Training) 75. Loss: 0.0850277990102768. Accuracy: 99.61832061068702\n",
            "Epoch:(Validation)  75. Loss: 0.5911478400230408. Accuracy: 88.28828828828829\n",
            "Epoch:(Training) 80. Loss: 0.06939686834812164. Accuracy: 99.87277353689568\n",
            "Epoch:(Validation)  80. Loss: 0.5968406796455383. Accuracy: 87.38738738738739\n",
            "Epoch:(Training) 85. Loss: 0.057264845818281174. Accuracy: 100.0\n",
            "Epoch:(Validation)  85. Loss: 0.6011306643486023. Accuracy: 87.38738738738739\n",
            "Epoch:(Training) 90. Loss: 0.04787540063261986. Accuracy: 100.0\n",
            "Epoch:(Validation)  90. Loss: 0.6064251661300659. Accuracy: 86.48648648648648\n",
            "Epoch:(Training) 95. Loss: 0.04051264375448227. Accuracy: 100.0\n",
            "Epoch:(Validation)  95. Loss: 0.6116629838943481. Accuracy: 85.58558558558559\n",
            "Epoch:(Training) 100. Loss: 0.0346653051674366. Accuracy: 100.0\n",
            "Epoch:(Validation)  100. Loss: 0.6169177293777466. Accuracy: 85.58558558558559\n",
            "LR 0.0005\n",
            "Epoch:(Training) 5. Loss: 2.0870702266693115. Accuracy: 61.06870229007634\n",
            "Epoch:(Validation)  5. Loss: 2.2244815826416016. Accuracy: 57.65765765765766\n",
            "Epoch:(Training) 10. Loss: 1.8762197494506836. Accuracy: 60.68702290076336\n",
            "Epoch:(Validation)  10. Loss: 1.9868550300598145. Accuracy: 59.45945945945946\n",
            "Epoch:(Training) 15. Loss: 1.7176265716552734. Accuracy: 60.43256997455471\n",
            "Epoch:(Validation)  15. Loss: 1.814411997795105. Accuracy: 60.36036036036036\n",
            "Epoch:(Training) 20. Loss: 1.5972306728363037. Accuracy: 62.72264631043257\n",
            "Epoch:(Validation)  20. Loss: 1.6806577444076538. Accuracy: 63.96396396396396\n",
            "Epoch:(Training) 25. Loss: 1.4992659091949463. Accuracy: 63.61323155216285\n",
            "Epoch:(Validation)  25. Loss: 1.5678658485412598. Accuracy: 67.56756756756756\n",
            "Epoch:(Training) 30. Loss: 1.4192323684692383. Accuracy: 65.52162849872774\n",
            "Epoch:(Validation)  30. Loss: 1.4718693494796753. Accuracy: 67.56756756756756\n",
            "Epoch:(Training) 35. Loss: 1.3530534505844116. Accuracy: 68.44783715012723\n",
            "Epoch:(Validation)  35. Loss: 1.3892368078231812. Accuracy: 71.17117117117117\n",
            "Epoch:(Training) 40. Loss: 1.2979280948638916. Accuracy: 70.73791348600508\n",
            "Epoch:(Validation)  40. Loss: 1.3186062574386597. Accuracy: 74.77477477477477\n",
            "Epoch:(Training) 45. Loss: 1.2512038946151733. Accuracy: 72.51908396946565\n",
            "Epoch:(Validation)  45. Loss: 1.2576847076416016. Accuracy: 76.57657657657657\n",
            "Epoch:(Training) 50. Loss: 1.2105721235275269. Accuracy: 73.66412213740458\n",
            "Epoch:(Validation)  50. Loss: 1.2047792673110962. Accuracy: 80.18018018018019\n",
            "Epoch:(Training) 55. Loss: 1.174487590789795. Accuracy: 74.80916030534351\n",
            "Epoch:(Validation)  55. Loss: 1.1583729982376099. Accuracy: 80.18018018018019\n",
            "Epoch:(Training) 60. Loss: 1.1420207023620605. Accuracy: 75.95419847328245\n",
            "Epoch:(Validation)  60. Loss: 1.1172420978546143. Accuracy: 81.08108108108108\n",
            "Epoch:(Training) 65. Loss: 1.1124753952026367. Accuracy: 76.59033078880407\n",
            "Epoch:(Validation)  65. Loss: 1.0808589458465576. Accuracy: 81.08108108108108\n",
            "Epoch:(Training) 70. Loss: 1.0852702856063843. Accuracy: 77.86259541984732\n",
            "Epoch:(Validation)  70. Loss: 1.0481210947036743. Accuracy: 81.98198198198199\n",
            "Epoch:(Training) 75. Loss: 1.0600141286849976. Accuracy: 78.2442748091603\n",
            "Epoch:(Validation)  75. Loss: 1.0185390710830688. Accuracy: 82.88288288288288\n",
            "Epoch:(Training) 80. Loss: 1.0362915992736816. Accuracy: 78.62595419847328\n",
            "Epoch:(Validation)  80. Loss: 0.9917123913764954. Accuracy: 82.88288288288288\n",
            "Epoch:(Training) 85. Loss: 1.0138967037200928. Accuracy: 79.51653944020356\n",
            "Epoch:(Validation)  85. Loss: 0.9671868681907654. Accuracy: 83.78378378378379\n",
            "Epoch:(Training) 90. Loss: 0.9926387667655945. Accuracy: 80.27989821882952\n",
            "Epoch:(Validation)  90. Loss: 0.9446423649787903. Accuracy: 84.68468468468468\n",
            "Epoch:(Training) 95. Loss: 0.9724128246307373. Accuracy: 80.53435114503817\n",
            "Epoch:(Validation)  95. Loss: 0.9238167405128479. Accuracy: 84.68468468468468\n",
            "Epoch:(Training) 100. Loss: 0.953002393245697. Accuracy: 80.91603053435115\n",
            "Epoch:(Validation)  100. Loss: 0.9045929908752441. Accuracy: 84.68468468468468\n",
            "optimal learning parameter 0.05\n",
            "Batch Size 32\n",
            "Epoch:(Training) 5. Loss: 0.8675566911697388. Accuracy: 90.83969465648855\n",
            "Epoch:(Validation) 5. Loss: 1.8121724128723145. Accuracy: 82.88288288288288\n",
            "Epoch:(Training) 10. Loss: 0.2866073548793793. Accuracy: 97.32824427480917\n",
            "Epoch:(Validation) 10. Loss: 1.549347996711731. Accuracy: 88.28828828828829\n",
            "Epoch:(Training) 15. Loss: 0.8552454113960266. Accuracy: 93.89312977099236\n",
            "Epoch:(Validation) 15. Loss: 1.7231265306472778. Accuracy: 86.48648648648648\n",
            "Epoch:(Training) 20. Loss: 0.050554461777210236. Accuracy: 99.61832061068702\n",
            "Epoch:(Validation) 20. Loss: 2.557136058807373. Accuracy: 81.98198198198199\n",
            "Epoch:(Training) 25. Loss: 0.012629127129912376. Accuracy: 100.0\n",
            "Epoch:(Validation) 25. Loss: 2.428285598754883. Accuracy: 85.58558558558559\n",
            "Epoch:(Training) 30. Loss: 0.0038106092251837254. Accuracy: 100.0\n",
            "Epoch:(Validation) 30. Loss: 2.474623918533325. Accuracy: 86.48648648648648\n",
            "Epoch:(Training) 35. Loss: 0.002240624511614442. Accuracy: 100.0\n",
            "Epoch:(Validation) 35. Loss: 2.5153346061706543. Accuracy: 86.48648648648648\n",
            "Epoch:(Training) 40. Loss: 0.0016549434512853622. Accuracy: 100.0\n",
            "Epoch:(Validation) 40. Loss: 2.5531041622161865. Accuracy: 86.48648648648648\n",
            "Epoch:(Training) 45. Loss: 0.0013106694677844644. Accuracy: 100.0\n",
            "Epoch:(Validation) 45. Loss: 2.585599422454834. Accuracy: 86.48648648648648\n",
            "Epoch:(Training) 50. Loss: 0.0010836616856977344. Accuracy: 100.0\n",
            "Epoch:(Validation) 50. Loss: 2.6142451763153076. Accuracy: 86.48648648648648\n",
            "Epoch:(Training) 55. Loss: 0.0009208534611389041. Accuracy: 100.0\n",
            "Epoch:(Validation) 55. Loss: 2.639878511428833. Accuracy: 86.48648648648648\n",
            "Epoch:(Training) 60. Loss: 0.0007988097495399415. Accuracy: 100.0\n",
            "Epoch:(Validation) 60. Loss: 2.6617672443389893. Accuracy: 86.48648648648648\n",
            "Epoch:(Training) 65. Loss: 0.0007041515200398862. Accuracy: 100.0\n",
            "Epoch:(Validation) 65. Loss: 2.6825954914093018. Accuracy: 86.48648648648648\n",
            "Epoch:(Training) 70. Loss: 0.0006290164892561734. Accuracy: 100.0\n",
            "Epoch:(Validation) 70. Loss: 2.7014973163604736. Accuracy: 86.48648648648648\n",
            "Epoch:(Training) 75. Loss: 0.0005676669534295797. Accuracy: 100.0\n",
            "Epoch:(Validation) 75. Loss: 2.718977451324463. Accuracy: 86.48648648648648\n",
            "Epoch:(Training) 80. Loss: 0.0005167044582776725. Accuracy: 100.0\n",
            "Epoch:(Validation) 80. Loss: 2.7350804805755615. Accuracy: 86.48648648648648\n",
            "Epoch:(Training) 85. Loss: 0.0004737753188237548. Accuracy: 100.0\n",
            "Epoch:(Validation) 85. Loss: 2.7500338554382324. Accuracy: 86.48648648648648\n",
            "Epoch:(Training) 90. Loss: 0.0004371201794128865. Accuracy: 100.0\n",
            "Epoch:(Validation) 90. Loss: 2.7639503479003906. Accuracy: 86.48648648648648\n",
            "Epoch:(Training) 95. Loss: 0.00040551103302277625. Accuracy: 100.0\n",
            "Epoch:(Validation) 95. Loss: 2.7774388790130615. Accuracy: 86.48648648648648\n",
            "Epoch:(Training) 100. Loss: 0.0003778919344767928. Accuracy: 100.0\n",
            "Epoch:(Validation) 100. Loss: 2.7904372215270996. Accuracy: 86.48648648648648\n",
            "Batch Size 64\n",
            "Epoch:(Training) 5. Loss: 0.6212901473045349. Accuracy: 86.00508905852418\n",
            "Epoch:(Validation) 5. Loss: 0.6865969896316528. Accuracy: 85.58558558558559\n",
            "Epoch:(Training) 10. Loss: 0.2704401910305023. Accuracy: 94.91094147582697\n",
            "Epoch:(Validation) 10. Loss: 0.7604652643203735. Accuracy: 81.98198198198199\n",
            "Epoch:(Training) 15. Loss: 0.08528868108987808. Accuracy: 98.47328244274809\n",
            "Epoch:(Validation) 15. Loss: 0.7041217684745789. Accuracy: 82.88288288288288\n",
            "Epoch:(Training) 20. Loss: 0.027455320581793785. Accuracy: 100.0\n",
            "Epoch:(Validation) 20. Loss: 0.7913117408752441. Accuracy: 84.68468468468468\n",
            "Epoch:(Training) 25. Loss: 0.029369428753852844. Accuracy: 99.87277353689568\n",
            "Epoch:(Validation) 25. Loss: 0.7791908383369446. Accuracy: 81.98198198198199\n",
            "Epoch:(Training) 30. Loss: 0.014118914492428303. Accuracy: 99.87277353689568\n",
            "Epoch:(Validation) 30. Loss: 0.8026735186576843. Accuracy: 84.68468468468468\n",
            "Epoch:(Training) 35. Loss: 0.005097593180835247. Accuracy: 100.0\n",
            "Epoch:(Validation) 35. Loss: 0.7950986623764038. Accuracy: 86.48648648648648\n",
            "Epoch:(Training) 40. Loss: 0.0032410575076937675. Accuracy: 100.0\n",
            "Epoch:(Validation) 40. Loss: 0.8021438717842102. Accuracy: 86.48648648648648\n",
            "Epoch:(Training) 45. Loss: 0.00236563291400671. Accuracy: 100.0\n",
            "Epoch:(Validation) 45. Loss: 0.8131462335586548. Accuracy: 86.48648648648648\n",
            "Epoch:(Training) 50. Loss: 0.0018492811359465122. Accuracy: 100.0\n",
            "Epoch:(Validation) 50. Loss: 0.8229596018791199. Accuracy: 86.48648648648648\n",
            "Epoch:(Training) 55. Loss: 0.0015090919332578778. Accuracy: 100.0\n",
            "Epoch:(Validation) 55. Loss: 0.8320353627204895. Accuracy: 86.48648648648648\n",
            "Epoch:(Training) 60. Loss: 0.0012701054802164435. Accuracy: 100.0\n",
            "Epoch:(Validation) 60. Loss: 0.8401525020599365. Accuracy: 88.28828828828829\n",
            "Epoch:(Training) 65. Loss: 0.001093061175197363. Accuracy: 100.0\n",
            "Epoch:(Validation) 65. Loss: 0.8477761745452881. Accuracy: 89.1891891891892\n",
            "Epoch:(Training) 70. Loss: 0.0009566184016875923. Accuracy: 100.0\n",
            "Epoch:(Validation) 70. Loss: 0.8548930287361145. Accuracy: 88.28828828828829\n",
            "Epoch:(Training) 75. Loss: 0.000848246505483985. Accuracy: 100.0\n",
            "Epoch:(Validation) 75. Loss: 0.8612697124481201. Accuracy: 88.28828828828829\n",
            "Epoch:(Training) 80. Loss: 0.0007605827995575964. Accuracy: 100.0\n",
            "Epoch:(Validation) 80. Loss: 0.8672674298286438. Accuracy: 88.28828828828829\n",
            "Epoch:(Training) 85. Loss: 0.0006885119946673512. Accuracy: 100.0\n",
            "Epoch:(Validation) 85. Loss: 0.8728190660476685. Accuracy: 88.28828828828829\n",
            "Epoch:(Training) 90. Loss: 0.0006278812070377171. Accuracy: 100.0\n",
            "Epoch:(Validation) 90. Loss: 0.8781184554100037. Accuracy: 88.28828828828829\n",
            "Epoch:(Training) 95. Loss: 0.0005764644010923803. Accuracy: 100.0\n",
            "Epoch:(Validation) 95. Loss: 0.8829454183578491. Accuracy: 88.28828828828829\n",
            "Epoch:(Training) 100. Loss: 0.0005322775105014443. Accuracy: 100.0\n",
            "Epoch:(Validation) 100. Loss: 0.8874614238739014. Accuracy: 88.28828828828829\n",
            "Batch Size 128\n",
            "Epoch:(Training) 5. Loss: 0.41165071725845337. Accuracy: 82.69720101781171\n",
            "Epoch:(Validation) 5. Loss: 0.34606149792671204. Accuracy: 87.38738738738739\n",
            "Epoch:(Training) 10. Loss: 0.24137187004089355. Accuracy: 89.56743002544529\n",
            "Epoch:(Validation) 10. Loss: 0.33393755555152893. Accuracy: 90.990990990991\n",
            "Epoch:(Training) 15. Loss: 0.13683336973190308. Accuracy: 95.41984732824427\n",
            "Epoch:(Validation) 15. Loss: 0.3065756857395172. Accuracy: 89.1891891891892\n",
            "Epoch:(Training) 20. Loss: 0.05777702108025551. Accuracy: 98.34605597964376\n",
            "Epoch:(Validation) 20. Loss: 0.3082464635372162. Accuracy: 87.38738738738739\n",
            "Epoch:(Training) 25. Loss: 0.30791497230529785. Accuracy: 89.94910941475827\n",
            "Epoch:(Validation) 25. Loss: 0.44980648159980774. Accuracy: 86.48648648648648\n",
            "Epoch:(Training) 30. Loss: 0.13938741385936737. Accuracy: 95.92875318066157\n",
            "Epoch:(Validation) 30. Loss: 0.35685262084007263. Accuracy: 83.78378378378379\n",
            "Epoch:(Training) 35. Loss: 0.04442264512181282. Accuracy: 99.36386768447836\n",
            "Epoch:(Validation) 35. Loss: 0.35313645005226135. Accuracy: 87.38738738738739\n",
            "Epoch:(Training) 40. Loss: 0.3733890950679779. Accuracy: 91.0941475826972\n",
            "Epoch:(Validation) 40. Loss: 0.5749870538711548. Accuracy: 87.38738738738739\n",
            "Epoch:(Training) 45. Loss: 0.017932681366801262. Accuracy: 99.87277353689568\n",
            "Epoch:(Validation) 45. Loss: 0.3878273367881775. Accuracy: 86.48648648648648\n",
            "Epoch:(Training) 50. Loss: 0.008316782303154469. Accuracy: 100.0\n",
            "Epoch:(Validation) 50. Loss: 0.39129438996315. Accuracy: 86.48648648648648\n",
            "Epoch:(Training) 55. Loss: 0.005125212017446756. Accuracy: 100.0\n",
            "Epoch:(Validation) 55. Loss: 0.39129775762557983. Accuracy: 86.48648648648648\n",
            "Epoch:(Training) 60. Loss: 0.0035755576100200415. Accuracy: 100.0\n",
            "Epoch:(Validation) 60. Loss: 0.3928445279598236. Accuracy: 86.48648648648648\n",
            "Epoch:(Training) 65. Loss: 0.0026916335336863995. Accuracy: 100.0\n",
            "Epoch:(Validation) 65. Loss: 0.39668208360671997. Accuracy: 86.48648648648648\n",
            "Epoch:(Training) 70. Loss: 0.002133919158950448. Accuracy: 100.0\n",
            "Epoch:(Validation) 70. Loss: 0.4015141725540161. Accuracy: 86.48648648648648\n",
            "Epoch:(Training) 75. Loss: 0.0017568407347425818. Accuracy: 100.0\n",
            "Epoch:(Validation) 75. Loss: 0.40651434659957886. Accuracy: 85.58558558558559\n",
            "Epoch:(Training) 80. Loss: 0.0014868309954181314. Accuracy: 100.0\n",
            "Epoch:(Validation) 80. Loss: 0.41103222966194153. Accuracy: 85.58558558558559\n",
            "Epoch:(Training) 85. Loss: 0.001283183228224516. Accuracy: 100.0\n",
            "Epoch:(Validation) 85. Loss: 0.4152544438838959. Accuracy: 85.58558558558559\n",
            "Epoch:(Training) 90. Loss: 0.001124191447161138. Accuracy: 100.0\n",
            "Epoch:(Validation) 90. Loss: 0.41900864243507385. Accuracy: 85.58558558558559\n",
            "Epoch:(Training) 95. Loss: 0.0009982750052586198. Accuracy: 100.0\n",
            "Epoch:(Validation) 95. Loss: 0.4225725531578064. Accuracy: 85.58558558558559\n",
            "Epoch:(Training) 100. Loss: 0.0008955818484537303. Accuracy: 100.0\n",
            "Epoch:(Validation) 100. Loss: 0.42564529180526733. Accuracy: 85.58558558558559\n",
            "optimal batch size  64\n"
          ]
        }
      ],
      "source": [
        "#HINT: note that your training time should not take many days.\n",
        "\n",
        "\n",
        "\n",
        "#TODO:\n",
        "#Pick your hyper parameters\n",
        "max_epoch = 100\n",
        "train_batch = 64\n",
        "test_batch = 64\n",
        "learning_rate = (5e-2,5e-3,5e-4)\n",
        "momentum = 0.5\n",
        "weight_decay = 5e-04\n",
        "\n",
        "optimalLearn = -1\n",
        "maxAcc = -1\n",
        "\n",
        "train_loader = torch.utils.data.DataLoader(train_dataset, batch_size=train_batch,\n",
        "                                          shuffle=False)\n",
        "\n",
        "test_loader = torch.utils.data.DataLoader(test_dataset, batch_size=test_batch,\n",
        "                                         shuffle=False)\n",
        "\n",
        "val_loader = torch.utils.data.DataLoader(val_dataset, batch_size=train_batch,\n",
        "                                         shuffle=False)\n",
        "\n",
        "input_size = 3*224*224\n",
        "output_size = 4\n",
        "\n",
        "criterion = nn.CrossEntropyLoss()\n",
        "\n",
        "for lrate in learning_rate:\n",
        "  print(\"LR\",lrate)\n",
        "  model = FCNet(input_size,output_size)\n",
        "  model = model.to(device)\n",
        "  optimizer = torch.optim.SGD(model.parameters(), lr = lrate)\n",
        "  for i in range (0,max_epoch):\n",
        "    correct = 0\n",
        "    total = 0\n",
        "    loss_t = 0\n",
        "    for j,(images, labels) in enumerate(train_loader):\n",
        "\n",
        "      images = images.to(device)\n",
        "      labels = labels.to(device)\n",
        "\n",
        "      outputs = model(images)\n",
        "      loss = criterion(outputs, labels.long())\n",
        "\n",
        "      optimizer.zero_grad()\n",
        "      loss.backward()\n",
        "      optimizer.step()\n",
        "\n",
        "      loss_t = loss_t + criterion(outputs, labels.long())\n",
        "      _, predicted = torch.max(outputs.data, 1)\n",
        "\n",
        "      total += labels.size(0)\n",
        "\n",
        "      if torch.cuda.is_available():\n",
        "          correct += (predicted.cpu() == labels.cpu()).sum()\n",
        "      else:\n",
        "          correct += (predicted == labels).sum()\n",
        "        \n",
        "      accuracy = 100 * correct.item() / total\n",
        "      \n",
        "      if j == len(train_loader) - 1:\n",
        "        loss_t = 100 * loss_t / total\n",
        "        if (i+1) % 5 == 0:\n",
        "          print('Epoch:(Training) {}. Loss: {}. Accuracy: {}'.format(i+1, loss_t, accuracy))\n",
        "\n",
        "        correctV = 0\n",
        "        totalV = 0\n",
        "        loss_v =0\n",
        "        for images, labels in val_loader:\n",
        "\n",
        "            #images = images.view(-1, 3,224,224).to(device)\n",
        "            images = images.to(device)\n",
        "\n",
        "            outputs = model(images)\n",
        "\n",
        "            loss_v = loss_v + criterion(outputs, labels.long())\n",
        "\n",
        "            _, predicted = torch.max(outputs.data, 1)\n",
        "\n",
        "                # Total number of labels\n",
        "            totalV += labels.size(0)\n",
        "\n",
        "            if torch.cuda.is_available():\n",
        "                correctV += (predicted.cpu() == labels.cpu()).sum()\n",
        "            else:\n",
        "                correctV += (predicted == labels).sum()\n",
        "\n",
        "        accuracyV = 100 * correctV.item() / totalV\n",
        "        loss_v = 100 * loss_v / totalV\n",
        "        if (i+1) % 5 == 0:\n",
        "          print('Epoch:(Validation)  {}. Loss: {}. Accuracy: {}'.format(i+1, loss_v, accuracyV))\n",
        "        \n",
        "        if (i+1) == max_epoch:\n",
        "          if ( accuracyV > maxAcc):\n",
        "            maxAcc = accuracyV\n",
        "            optimalLearn = lrate\n",
        "\n",
        "print(\"optimal learning parameter\",optimalLearn)\n",
        "\n",
        "\n",
        "optimalBatch = -1\n",
        "maxAcc = -1\n",
        "\n",
        "\n",
        "batchSizes = ( 32,64,128)\n",
        "criterion = nn.CrossEntropyLoss()\n",
        "\n",
        "\n",
        "for batchS in batchSizes:\n",
        "  print(\"Batch Size\",batchS)\n",
        "  \n",
        "  model = FCNet(input_size,output_size)\n",
        "  model = model.to(device)\n",
        "  optimizer = torch.optim.SGD(model.parameters(), lr = optimalLearn)\n",
        "\n",
        "  train_loader = torch.utils.data.DataLoader(train_dataset, batch_size=batchS,\n",
        "                                          shuffle=False)\n",
        "\n",
        "  val_loader = torch.utils.data.DataLoader(val_dataset, batch_size=batchS,\n",
        "                                         shuffle=False)\n",
        "  for i in range (0,max_epoch):\n",
        "    correct = 0\n",
        "    total = 0\n",
        "    loss_t = 0\n",
        "    for j,(images, labels) in enumerate(train_loader):\n",
        "\n",
        "    \n",
        "      images = images.to(device)\n",
        "      labels = labels.to(device)\n",
        "\n",
        "      outputs = model(images)\n",
        "      loss = criterion(outputs, labels.long())\n",
        "\n",
        "      optimizer.zero_grad()\n",
        "      loss.backward()\n",
        "      optimizer.step()\n",
        "\n",
        "      loss_t = loss_t + criterion(outputs, labels.long())\n",
        "      _, predicted = torch.max(outputs.data, 1)\n",
        "\n",
        "      total += labels.size(0)\n",
        "\n",
        "      if torch.cuda.is_available():\n",
        "          correct += (predicted.cpu() == labels.cpu()).sum()\n",
        "      else:\n",
        "          correct += (predicted == labels).sum()\n",
        "             \n",
        "      if j == len(train_loader) - 1:\n",
        "        accuracy = 100 * correct.item() / total\n",
        "        loss_t = 100 * loss_t / total\n",
        "        if (i+1) % 5 == 0:\n",
        "          print('Epoch:(Training) {}. Loss: {}. Accuracy: {}'.format(i+1, loss_t, accuracy))\n",
        "\n",
        "        correctV = 0\n",
        "        totalV = 0\n",
        "        loss_v =0\n",
        "        for images, labels in val_loader:\n",
        "\n",
        "            images = images.to(device)\n",
        "\n",
        "            outputs = model(images)\n",
        "\n",
        "            loss_v = loss_v + criterion(outputs, labels.long())\n",
        "\n",
        "            _, predicted = torch.max(outputs.data, 1)\n",
        "\n",
        "            totalV += labels.size(0)\n",
        "\n",
        "            if torch.cuda.is_available():\n",
        "                correctV += (predicted.cpu() == labels.cpu()).sum()\n",
        "            else:\n",
        "                correctV += (predicted == labels).sum()\n",
        "\n",
        "        accuracyV = 100 * correctV.item() / totalV\n",
        "        loss_v = 100 * loss_v / totalV\n",
        "            # Print Loss\n",
        "        if (i+1) % 5 == 0:\n",
        "          print('Epoch:(Validation) {}. Loss: {}. Accuracy: {}'.format(i+1, loss_v, accuracyV))\n",
        "        if (i+1) == max_epoch:\n",
        "          if ( accuracyV > maxAcc):\n",
        "            maxAcc = accuracyV\n",
        "            optimalBatch = batchS\n",
        "\n",
        "print(\"optimal batch size \",optimalBatch)"
      ]
    },
    {
      "cell_type": "code",
      "execution_count": null,
      "metadata": {
        "colab": {
          "base_uri": "https://localhost:8080/"
        },
        "id": "Sj9tf3r8pCUc",
        "outputId": "92c9d844-576b-4be3-87a4-fd1a881a9b16"
      },
      "outputs": [
        {
          "name": "stdout",
          "output_type": "stream",
          "text": [
            "Epoch: Training 5. Loss: 0.6106055378913879. Accuracy: 86.76844783715013\n",
            "Epoch: Validation 5. Loss: 0.7350512742996216. Accuracy: 85.58558558558559\n",
            "Epoch: Training 10. Loss: 0.24849355220794678. Accuracy: 95.67430025445293\n",
            "Epoch: Validation 10. Loss: 0.7743385434150696. Accuracy: 82.88288288288288\n",
            "Epoch: Training 15. Loss: 0.0875936970114708. Accuracy: 98.47328244274809\n",
            "Epoch: Validation 15. Loss: 0.6794873476028442. Accuracy: 82.88288288288288\n",
            "Epoch: Training 20. Loss: 0.02621297910809517. Accuracy: 100.0\n",
            "Epoch: Validation 20. Loss: 0.7726959586143494. Accuracy: 86.48648648648648\n",
            "Epoch: Training 25. Loss: 0.014132745563983917. Accuracy: 100.0\n",
            "Epoch: Validation 25. Loss: 0.8004629015922546. Accuracy: 84.68468468468468\n",
            "Epoch: Training 30. Loss: 0.005451465491205454. Accuracy: 100.0\n",
            "Epoch: Validation 30. Loss: 0.7824757695198059. Accuracy: 84.68468468468468\n",
            "Epoch: Training 35. Loss: 0.003438466927036643. Accuracy: 100.0\n",
            "Epoch: Validation 35. Loss: 0.7854820489883423. Accuracy: 84.68468468468468\n",
            "Epoch: Training 40. Loss: 0.002511443803086877. Accuracy: 100.0\n",
            "Epoch: Validation 40. Loss: 0.7930261492729187. Accuracy: 86.48648648648648\n",
            "Epoch: Training 45. Loss: 0.0019656133372336626. Accuracy: 100.0\n",
            "Epoch: Validation 45. Loss: 0.8003230690956116. Accuracy: 86.48648648648648\n",
            "Epoch: Training 50. Loss: 0.0016066160751506686. Accuracy: 100.0\n",
            "Epoch: Validation 50. Loss: 0.806864857673645. Accuracy: 86.48648648648648\n",
            "Epoch: Training 55. Loss: 0.0013511390425264835. Accuracy: 100.0\n",
            "Epoch: Validation 55. Loss: 0.814434826374054. Accuracy: 86.48648648648648\n",
            "Epoch: Training 60. Loss: 0.0011622598394751549. Accuracy: 100.0\n",
            "Epoch: Validation 60. Loss: 0.8208807706832886. Accuracy: 86.48648648648648\n",
            "Epoch: Training 65. Loss: 0.0010167560540139675. Accuracy: 100.0\n",
            "Epoch: Validation 65. Loss: 0.8268035054206848. Accuracy: 86.48648648648648\n",
            "Epoch: Training 70. Loss: 0.0009014345123432577. Accuracy: 100.0\n",
            "Epoch: Validation 70. Loss: 0.8335112929344177. Accuracy: 86.48648648648648\n",
            "Epoch: Training 75. Loss: 0.0008081566775217652. Accuracy: 100.0\n",
            "Epoch: Validation 75. Loss: 0.8389420509338379. Accuracy: 86.48648648648648\n",
            "Epoch: Training 80. Loss: 0.0007313982932828367. Accuracy: 100.0\n",
            "Epoch: Validation 80. Loss: 0.8438795804977417. Accuracy: 86.48648648648648\n",
            "Epoch: Training 85. Loss: 0.0006664543761871755. Accuracy: 100.0\n",
            "Epoch: Validation 85. Loss: 0.849206268787384. Accuracy: 86.48648648648648\n",
            "Epoch: Training 90. Loss: 0.0006117440643720329. Accuracy: 100.0\n",
            "Epoch: Validation 90. Loss: 0.8536052107810974. Accuracy: 86.48648648648648\n",
            "Epoch: Training 95. Loss: 0.0005643396871164441. Accuracy: 100.0\n",
            "Epoch: Validation 95. Loss: 0.8582299947738647. Accuracy: 86.48648648648648\n",
            "Epoch: Training 100. Loss: 0.0005237292498350143. Accuracy: 100.0\n",
            "Epoch: Validation 100. Loss: 0.8622496724128723. Accuracy: 86.48648648648648\n"
          ]
        }
      ],
      "source": [
        "##Drawing plots with the best hyperparameters on training and validation sets and training the model with fcn last time\n",
        "accuracy_list_val = []\n",
        "accuracy_list_train = []\n",
        "\n",
        "loss_val =[]\n",
        "loss_train = []\n",
        "epoch_list = []\n",
        "\n",
        "train_loader = torch.utils.data.DataLoader(train_dataset, batch_size=optimalBatch,\n",
        "                                          shuffle=False)\n",
        "\n",
        "val_loader = torch.utils.data.DataLoader(val_dataset, batch_size=optimalBatch,\n",
        "                                         shuffle=False)\n",
        "\n",
        "model = FCNet(input_size,output_size)\n",
        "model = model.to(device)\n",
        "criterion = nn.CrossEntropyLoss()\n",
        "optimizer = torch.optim.SGD(model.parameters(), lr = optimalLearn)\n",
        "\n",
        "for i in range (0,max_epoch):\n",
        "    correct = 0\n",
        "    total = 0\n",
        "    loss_t = 0\n",
        "    for j,(images, labels) in enumerate(train_loader):\n",
        "\n",
        "    \n",
        "      images = images.to(device)\n",
        "      labels = labels.to(device)\n",
        "\n",
        "      outputs = model(images)\n",
        "      loss = criterion(outputs, labels.long())\n",
        "\n",
        "      optimizer.zero_grad()\n",
        "      loss.backward()\n",
        "      optimizer.step()\n",
        "\n",
        "      loss_t = loss_t + criterion(outputs, labels.long())\n",
        "      _, predicted = torch.max(outputs.data, 1)\n",
        "\n",
        "      total += labels.size(0)\n",
        "\n",
        "      if torch.cuda.is_available():\n",
        "          correct += (predicted.cpu() == labels.cpu()).sum()\n",
        "      else:\n",
        "          correct += (predicted == labels).sum()\n",
        "        \n",
        "      \n",
        "      if j == len(train_loader) - 1:\n",
        "        accuracy = 100 * correct.item() / total\n",
        "        loss_t = 100 * loss_t / total\n",
        "        accuracy_list_train.append(correct*100/total)\n",
        "        loss_train.append(loss_t.item())\n",
        "        if (i+1) % 5 == 0:\n",
        "          print('Epoch: Training {}. Loss: {}. Accuracy: {}'.format(i+1, loss_t, accuracy))\n",
        "\n",
        "        correctV = 0\n",
        "        totalV = 0\n",
        "        loss_v =0\n",
        "        for images, labels in val_loader:\n",
        "\n",
        "            images = images.to(device)\n",
        "\n",
        "            outputs = model(images)\n",
        "\n",
        "            loss_v = loss_v + criterion(outputs, labels.long())\n",
        "\n",
        "            _, predicted = torch.max(outputs.data, 1)\n",
        "\n",
        "            totalV += labels.size(0)\n",
        "\n",
        "            if torch.cuda.is_available():\n",
        "                correctV += (predicted.cpu() == labels.cpu()).sum()\n",
        "            else:\n",
        "                correctV += (predicted == labels).sum()\n",
        "\n",
        "        accuracyV = 100 * correctV.item() / totalV\n",
        "        loss_v = 100 * loss_v / totalV\n",
        "        if (i+1) % 5 == 0:\n",
        "          print('Epoch: Validation {}. Loss: {}. Accuracy: {}'.format(i+1, loss_v, accuracyV))\n",
        "        accuracy_list_val.append(correctV*100/totalV)\n",
        "        loss_val.append(loss_v.item())\n",
        "        epoch_list.append(i+1)"
      ]
    },
    {
      "cell_type": "markdown",
      "metadata": {
        "id": "AerO0TZ0gAJa"
      },
      "source": [
        "### Learning Process Analysis [5 points]\n",
        "Following the training step, you will now provide accuracy and loss plots over all epochs. For this, provide two plots:\n",
        "- In the first plot, you will provide the value of the accuracy metric over epochs. Your plot should include two curves, one for the training set and the other for the validation set.\n",
        "- For the second plot, provide the curve for loss values over epochs. Again your plot should include two curves, where one indicates loss on the training set and the second indicates loss for the validation set."
      ]
    },
    {
      "cell_type": "code",
      "execution_count": null,
      "metadata": {
        "colab": {
          "base_uri": "https://localhost:8080/",
          "height": 317
        },
        "id": "iiXtRpe9RI11",
        "outputId": "046e5253-41a1-48ec-95ab-b93456aa0a1a"
      },
      "outputs": [
        {
          "name": "stdout",
          "output_type": "stream",
          "text": [
            "Batch_size: 64 , Learning rate: 0.05\n",
            "Validation and training accuracies with optimal hyperparameters\n"
          ]
        },
        {
          "data": {
            "image/png": "[encoded data removed]",
            "text/plain": [
              "<Figure size 432x288 with 1 Axes>"
            ]
          },
          "metadata": {},
          "output_type": "display_data"
        }
      ],
      "source": [
        "# TODO: Implement your plots here, you can use matplotlib library to do so.\n",
        "print(\"Batch_size:\",optimalBatch, \", Learning rate:\",optimalLearn)\n",
        "print(\"Validation and training accuracies with optimal hyperparameters\")\n",
        "\n",
        "plt.xlabel(\"epoch\")\n",
        "plt.ylabel(\"acc\")\n",
        "\n",
        "plt.plot(epoch_list,accuracy_list_val,label=\"validation\")\n",
        "\n",
        "plt.plot(epoch_list,accuracy_list_train, label = \"training\")\n",
        "\n",
        "plt.legend()\n",
        "\n",
        "plt.show()"
      ]
    },
    {
      "cell_type": "code",
      "execution_count": null,
      "metadata": {
        "colab": {
          "base_uri": "https://localhost:8080/",
          "height": 279
        },
        "id": "gBMvj1s9p86s",
        "outputId": "39b101e0-b2c1-4448-9bd9-4e8a6991f899"
      },
      "outputs": [
        {
          "data": {
            "image/png": "[encoded data removed]",
            "text/plain": [
              "<Figure size 432x288 with 1 Axes>"
            ]
          },
          "metadata": {},
          "output_type": "display_data"
        }
      ],
      "source": [
        "plt.xlabel(\"epoch\")\n",
        "plt.ylabel(\"loss\")\n",
        "\n",
        "plt.plot(epoch_list,loss_val,label=\"validation\")\n",
        "\n",
        "plt.plot(epoch_list,loss_train, label = \"training\")\n",
        "\n",
        "plt.legend()\n",
        "\n",
        "plt.show()"
      ]
    },
    {
      "cell_type": "markdown",
      "metadata": {
        "id": "y0ZcDuLQQysp"
      },
      "source": [
        "### Test [5 points]\n",
        "As the final step of your analysis, you will test your model using some metrics. For the best model you obtained during training, evaluate your model on the test set. Then, report the confusion matrix. Finally, report accuracy, precision, recall, and $F_1$ score using your model. Report all these metrics using the macro form (macro precision, macro recall, etc.). You can implement these metrics in the cell below. "
      ]
    },
    {
      "cell_type": "code",
      "execution_count": null,
      "metadata": {
        "colab": {
          "base_uri": "https://localhost:8080/",
          "height": 355
        },
        "id": "ptAiYhAIR6O5",
        "outputId": "6fd5a7f9-7844-4d40-9872-c15454360d1c"
      },
      "outputs": [
        {
          "name": "stdout",
          "output_type": "stream",
          "text": [
            "Accuracy: 0.860\n",
            "Precision: 0.849\n",
            "Recall: 0.848\n",
            "F1 Score: 0.848\n"
          ]
        },
        {
          "data": {
            "image/png": "[encoded data removed]",
            "text/plain": [
              "<Figure size 432x288 with 2 Axes>"
            ]
          },
          "metadata": {},
          "output_type": "display_data"
        }
      ],
      "source": [
        "# TODO: Implement your evaluation script here, provide the confusion matrix and the requested metrics\n",
        "from sklearn.metrics import confusion_matrix, ConfusionMatrixDisplay\n",
        "y_true = []\n",
        "y_pred = []\n",
        "for images, labels in test_loader:\n",
        "\n",
        "    images = images.to(device)\n",
        "    outputs = model(images)\n",
        "    y_true.extend(labels)\n",
        "    _, predicted = torch.max(outputs.data, 1)\n",
        "    y_pred.extend(predicted)\n",
        "\n",
        "\n",
        "\n",
        "accuracy = accuracy_score(y_true, y_pred)\n",
        "precision = precision_score(y_true, y_pred,average='macro')\n",
        "recall = recall_score(y_true, y_pred,average='macro')\n",
        "f1 = f1_score(y_true, y_pred,average='macro')\n",
        "\n",
        "print(f'Accuracy: {accuracy:.3f}')\n",
        "print(f'Precision: {precision:.3f}')\n",
        "print(f'Recall: {recall:.3f}')\n",
        "print(f'F1 Score: {f1:.3f}')\n",
        "\n",
        "conf_m =confusion_matrix(y_true, y_pred)\n",
        "\n",
        "conf_graph = ConfusionMatrixDisplay(confusion_matrix= conf_m, display_labels=classes)\n",
        "\n",
        "conf_graph.plot()\n",
        "plt.show()"
      ]
    },
    {
      "cell_type": "markdown",
      "metadata": {
        "id": "fVgI--N4B7lR"
      },
      "source": [
        "## Training and evaluation of CNN [22 points]\n",
        "Similar to the FCN model, you will now train the CNN model that you defined before. Again you are free to try out different hyperparameters. This model also will classify weather images with the four classes provided by the dataset. As the optimizer, again, use the SGD implementation provided by PyTorch. You can implement the training loop in the following cell. \n",
        "\n",
        "Similar to the training procedure, you need to save the best model you obtain during training. Select an appropriate criterion (metric) to save the best model. If you wish, you can add a markdown cell to explain your reasoning."
      ]
    },
    {
      "cell_type": "markdown",
      "source": [
        "🛑 I tried 6 different situations and at the end selected my hyperparameters according to the accuracy at the end of 100th epochs. So my criterion was getting the hyperparameters with the best validation accuracy at the end of trainings (100 epochs). It came out optimal learn rate is 0.005 and batch size is 32 for CNN model.\n"
      ],
      "metadata": {
        "id": "abSXGfmRL6J7"
      }
    },
    {
      "cell_type": "markdown",
      "metadata": {
        "id": "mw1OF9Fl42Bc"
      },
      "source": [
        "### Training [12 points]"
      ]
    },
    {
      "cell_type": "code",
      "execution_count": null,
      "metadata": {
        "colab": {
          "base_uri": "https://localhost:8080/"
        },
        "id": "gsEdzn4ON9fx",
        "outputId": "770aeb8d-7097-4289-d374-19cbc8dd92c0"
      },
      "outputs": [
        {
          "name": "stdout",
          "output_type": "stream",
          "text": [
            "LR 0.05\n",
            "Epoch:(Training) 5. Loss: 1.1657408475875854. Accuracy: 69.46564885496183\n",
            "Epoch:(Validation)  5. Loss: 1.0711618661880493. Accuracy: 69.36936936936937\n",
            "Epoch:(Training) 10. Loss: 0.7209393382072449. Accuracy: 82.95165394402035\n",
            "Epoch:(Validation)  10. Loss: 0.6719589829444885. Accuracy: 87.38738738738739\n",
            "Epoch:(Training) 15. Loss: 0.8666369915008545. Accuracy: 80.6615776081425\n",
            "Epoch:(Validation)  15. Loss: 0.646879255771637. Accuracy: 86.48648648648648\n",
            "Epoch:(Training) 20. Loss: 0.47910356521606445. Accuracy: 89.18575063613231\n",
            "Epoch:(Validation)  20. Loss: 0.5517027974128723. Accuracy: 88.28828828828829\n",
            "Epoch:(Training) 25. Loss: 0.540732741355896. Accuracy: 86.1323155216285\n",
            "Epoch:(Validation)  25. Loss: 0.7636652588844299. Accuracy: 81.08108108108108\n",
            "Epoch:(Training) 30. Loss: 0.36269527673721313. Accuracy: 90.45801526717557\n",
            "Epoch:(Validation)  30. Loss: 0.7153275609016418. Accuracy: 84.68468468468468\n",
            "Epoch:(Training) 35. Loss: 0.24626238644123077. Accuracy: 93.76590330788804\n",
            "Epoch:(Validation)  35. Loss: 0.6516534090042114. Accuracy: 85.58558558558559\n",
            "Epoch:(Training) 40. Loss: 0.15101011097431183. Accuracy: 96.43765903307889\n",
            "Epoch:(Validation)  40. Loss: 0.744385302066803. Accuracy: 87.38738738738739\n",
            "Epoch:(Training) 45. Loss: 0.07680672407150269. Accuracy: 98.60050890585242\n",
            "Epoch:(Validation)  45. Loss: 0.7973355054855347. Accuracy: 89.1891891891892\n",
            "Epoch:(Training) 50. Loss: 0.016108006238937378. Accuracy: 100.0\n",
            "Epoch:(Validation)  50. Loss: 0.9860087633132935. Accuracy: 84.68468468468468\n",
            "Epoch:(Training) 55. Loss: 0.005395941436290741. Accuracy: 100.0\n",
            "Epoch:(Validation)  55. Loss: 1.1137173175811768. Accuracy: 83.78378378378379\n",
            "Epoch:(Training) 60. Loss: 0.002863725647330284. Accuracy: 100.0\n",
            "Epoch:(Validation)  60. Loss: 1.1829556226730347. Accuracy: 84.68468468468468\n",
            "Epoch:(Training) 65. Loss: 0.00184653140604496. Accuracy: 100.0\n",
            "Epoch:(Validation)  65. Loss: 1.2418931722640991. Accuracy: 84.68468468468468\n",
            "Epoch:(Training) 70. Loss: 0.001315578818321228. Accuracy: 100.0\n",
            "Epoch:(Validation)  70. Loss: 1.2881118059158325. Accuracy: 84.68468468468468\n",
            "Epoch:(Training) 75. Loss: 0.0010028512915596366. Accuracy: 100.0\n",
            "Epoch:(Validation)  75. Loss: 1.3255858421325684. Accuracy: 84.68468468468468\n",
            "Epoch:(Training) 80. Loss: 0.0008023201371543109. Accuracy: 100.0\n",
            "Epoch:(Validation)  80. Loss: 1.3571412563323975. Accuracy: 83.78378378378379\n",
            "Epoch:(Training) 85. Loss: 0.0006660412764176726. Accuracy: 100.0\n",
            "Epoch:(Validation)  85. Loss: 1.3831801414489746. Accuracy: 83.78378378378379\n",
            "Epoch:(Training) 90. Loss: 0.0005665731150656939. Accuracy: 100.0\n",
            "Epoch:(Validation)  90. Loss: 1.4073060750961304. Accuracy: 83.78378378378379\n",
            "Epoch:(Training) 95. Loss: 0.0004915013560093939. Accuracy: 100.0\n",
            "Epoch:(Validation)  95. Loss: 1.4282151460647583. Accuracy: 83.78378378378379\n",
            "Epoch:(Training) 100. Loss: 0.0004329498333390802. Accuracy: 100.0\n",
            "Epoch:(Validation)  100. Loss: 1.4478600025177002. Accuracy: 83.78378378378379\n",
            "LR 0.005\n",
            "Epoch:(Training) 5. Loss: 2.289825439453125. Accuracy: 22.519083969465647\n",
            "Epoch:(Validation)  5. Loss: 2.493929386138916. Accuracy: 22.52252252252252\n",
            "Epoch:(Training) 10. Loss: 2.2671921253204346. Accuracy: 50.25445292620865\n",
            "Epoch:(Validation)  10. Loss: 2.4643821716308594. Accuracy: 53.153153153153156\n",
            "Epoch:(Training) 15. Loss: 2.2259581089019775. Accuracy: 48.218829516539444\n",
            "Epoch:(Validation)  15. Loss: 2.408721923828125. Accuracy: 47.747747747747745\n",
            "Epoch:(Training) 20. Loss: 2.1036040782928467. Accuracy: 47.70992366412214\n",
            "Epoch:(Validation)  20. Loss: 2.240490674972534. Accuracy: 48.648648648648646\n",
            "Epoch:(Training) 25. Loss: 1.7695590257644653. Accuracy: 57.37913486005089\n",
            "Epoch:(Validation)  25. Loss: 1.8246272802352905. Accuracy: 61.26126126126126\n",
            "Epoch:(Training) 30. Loss: 1.379284381866455. Accuracy: 67.93893129770993\n",
            "Epoch:(Validation)  30. Loss: 1.3770135641098022. Accuracy: 76.57657657657657\n",
            "Epoch:(Training) 35. Loss: 1.1063674688339233. Accuracy: 76.97201017811705\n",
            "Epoch:(Validation)  35. Loss: 1.0531741380691528. Accuracy: 80.18018018018019\n",
            "Epoch:(Training) 40. Loss: 0.9449009895324707. Accuracy: 79.00763358778626\n",
            "Epoch:(Validation)  40. Loss: 0.858708918094635. Accuracy: 84.68468468468468\n",
            "Epoch:(Training) 45. Loss: 0.84359210729599. Accuracy: 81.04325699745547\n",
            "Epoch:(Validation)  45. Loss: 0.7505617737770081. Accuracy: 86.48648648648648\n",
            "Epoch:(Training) 50. Loss: 0.7742657661437988. Accuracy: 83.33333333333333\n",
            "Epoch:(Validation)  50. Loss: 0.6870980262756348. Accuracy: 88.28828828828829\n",
            "Epoch:(Training) 55. Loss: 0.7185944318771362. Accuracy: 84.60559796437659\n",
            "Epoch:(Validation)  55. Loss: 0.6434838771820068. Accuracy: 88.28828828828829\n",
            "Epoch:(Training) 60. Loss: 0.6712914109230042. Accuracy: 85.49618320610686\n",
            "Epoch:(Validation)  60. Loss: 0.6092783808708191. Accuracy: 88.28828828828829\n",
            "Epoch:(Training) 65. Loss: 0.6285852193832397. Accuracy: 85.75063613231552\n",
            "Epoch:(Validation)  65. Loss: 0.5815480351448059. Accuracy: 88.28828828828829\n",
            "Epoch:(Training) 70. Loss: 0.5883855819702148. Accuracy: 86.6412213740458\n",
            "Epoch:(Validation)  70. Loss: 0.5568732619285583. Accuracy: 90.09009009009009\n",
            "Epoch:(Training) 75. Loss: 0.5503728985786438. Accuracy: 87.53180661577608\n",
            "Epoch:(Validation)  75. Loss: 0.5345260500907898. Accuracy: 90.09009009009009\n",
            "Epoch:(Training) 80. Loss: 0.5152991414070129. Accuracy: 88.29516539440203\n",
            "Epoch:(Validation)  80. Loss: 0.5128334760665894. Accuracy: 90.09009009009009\n",
            "Epoch:(Training) 85. Loss: 0.4800191819667816. Accuracy: 89.69465648854961\n",
            "Epoch:(Validation)  85. Loss: 0.49556052684783936. Accuracy: 89.1891891891892\n",
            "Epoch:(Training) 90. Loss: 0.447841078042984. Accuracy: 90.45801526717557\n",
            "Epoch:(Validation)  90. Loss: 0.47773680090904236. Accuracy: 90.09009009009009\n",
            "Epoch:(Training) 95. Loss: 0.41653695702552795. Accuracy: 91.22137404580153\n",
            "Epoch:(Validation)  95. Loss: 0.4605243504047394. Accuracy: 90.990990990991\n",
            "Epoch:(Training) 100. Loss: 0.3868464231491089. Accuracy: 92.36641221374046\n",
            "Epoch:(Validation)  100. Loss: 0.4489108622074127. Accuracy: 90.990990990991\n",
            "LR 0.0005\n",
            "Epoch:(Training) 5. Loss: 2.286574125289917. Accuracy: 26.717557251908396\n",
            "Epoch:(Validation)  5. Loss: 2.48787260055542. Accuracy: 27.027027027027028\n",
            "Epoch:(Training) 10. Loss: 2.283282995223999. Accuracy: 26.717557251908396\n",
            "Epoch:(Validation)  10. Loss: 2.484261989593506. Accuracy: 27.027027027027028\n",
            "Epoch:(Training) 15. Loss: 2.2799577713012695. Accuracy: 26.717557251908396\n",
            "Epoch:(Validation)  15. Loss: 2.480665683746338. Accuracy: 27.027027027027028\n",
            "Epoch:(Training) 20. Loss: 2.2766571044921875. Accuracy: 26.717557251908396\n",
            "Epoch:(Validation)  20. Loss: 2.477088451385498. Accuracy: 27.027027027027028\n",
            "Epoch:(Training) 25. Loss: 2.273372173309326. Accuracy: 26.717557251908396\n",
            "Epoch:(Validation)  25. Loss: 2.473507881164551. Accuracy: 27.027027027027028\n",
            "Epoch:(Training) 30. Loss: 2.270031213760376. Accuracy: 26.717557251908396\n",
            "Epoch:(Validation)  30. Loss: 2.469836473464966. Accuracy: 27.027027027027028\n",
            "Epoch:(Training) 35. Loss: 2.2665510177612305. Accuracy: 26.717557251908396\n",
            "Epoch:(Validation)  35. Loss: 2.4660046100616455. Accuracy: 27.027027027027028\n",
            "Epoch:(Training) 40. Loss: 2.262876272201538. Accuracy: 27.608142493638677\n",
            "Epoch:(Validation)  40. Loss: 2.461949348449707. Accuracy: 27.92792792792793\n",
            "Epoch:(Training) 45. Loss: 2.2589945793151855. Accuracy: 36.1323155216285\n",
            "Epoch:(Validation)  45. Loss: 2.4576385021209717. Accuracy: 36.03603603603604\n",
            "Epoch:(Training) 50. Loss: 2.254838228225708. Accuracy: 43.38422391857507\n",
            "Epoch:(Validation)  50. Loss: 2.4530303478240967. Accuracy: 43.24324324324324\n",
            "Epoch:(Training) 55. Loss: 2.250396490097046. Accuracy: 49.61832061068702\n",
            "Epoch:(Validation)  55. Loss: 2.448103427886963. Accuracy: 49.549549549549546\n",
            "Epoch:(Training) 60. Loss: 2.245635986328125. Accuracy: 54.19847328244275\n",
            "Epoch:(Validation)  60. Loss: 2.4428296089172363. Accuracy: 54.054054054054056\n",
            "Epoch:(Training) 65. Loss: 2.24050235748291. Accuracy: 57.25190839694657\n",
            "Epoch:(Validation)  65. Loss: 2.4371511936187744. Accuracy: 57.65765765765766\n",
            "Epoch:(Training) 70. Loss: 2.2348875999450684. Accuracy: 58.651399491094146\n",
            "Epoch:(Validation)  70. Loss: 2.430940628051758. Accuracy: 60.36036036036036\n",
            "Epoch:(Training) 75. Loss: 2.2287020683288574. Accuracy: 59.541984732824424\n",
            "Epoch:(Validation)  75. Loss: 2.4241299629211426. Accuracy: 61.26126126126126\n",
            "Epoch:(Training) 80. Loss: 2.221911668777466. Accuracy: 61.83206106870229\n",
            "Epoch:(Validation)  80. Loss: 2.4166440963745117. Accuracy: 63.96396396396396\n",
            "Epoch:(Training) 85. Loss: 2.2143802642822266. Accuracy: 63.74045801526717\n",
            "Epoch:(Validation)  85. Loss: 2.4083540439605713. Accuracy: 65.76576576576576\n",
            "Epoch:(Training) 90. Loss: 2.2059478759765625. Accuracy: 64.3765903307888\n",
            "Epoch:(Validation)  90. Loss: 2.399014949798584. Accuracy: 66.66666666666667\n",
            "Epoch:(Training) 95. Loss: 2.1963369846343994. Accuracy: 65.13994910941476\n",
            "Epoch:(Validation)  95. Loss: 2.3883397579193115. Accuracy: 64.86486486486487\n",
            "Epoch:(Training) 100. Loss: 2.1852316856384277. Accuracy: 64.8854961832061\n",
            "Epoch:(Validation)  100. Loss: 2.376167058944702. Accuracy: 63.06306306306306\n",
            "optimal learning parameter 0.005\n",
            "Batch Size 32\n",
            "Epoch:(Training) 5. Loss: 4.330586910247803. Accuracy: 31.6793893129771\n",
            "Epoch:(Validation) 5. Loss: 4.868462562561035. Accuracy: 31.53153153153153\n",
            "Epoch:(Training) 10. Loss: 4.126348495483398. Accuracy: 31.6793893129771\n",
            "Epoch:(Validation) 10. Loss: 4.5502705574035645. Accuracy: 31.53153153153153\n",
            "Epoch:(Training) 15. Loss: 3.4391419887542725. Accuracy: 52.67175572519084\n",
            "Epoch:(Validation) 15. Loss: 3.6125175952911377. Accuracy: 57.65765765765766\n",
            "Epoch:(Training) 20. Loss: 2.1769790649414062. Accuracy: 75.06361323155217\n",
            "Epoch:(Validation) 20. Loss: 2.1109068393707275. Accuracy: 82.88288288288288\n",
            "Epoch:(Training) 25. Loss: 1.6849488019943237. Accuracy: 81.6793893129771\n",
            "Epoch:(Validation) 25. Loss: 1.5818408727645874. Accuracy: 84.68468468468468\n",
            "Epoch:(Training) 30. Loss: 1.4702907800674438. Accuracy: 83.58778625954199\n",
            "Epoch:(Validation) 30. Loss: 1.3886557817459106. Accuracy: 87.38738738738739\n",
            "Epoch:(Training) 35. Loss: 1.3079177141189575. Accuracy: 85.49618320610686\n",
            "Epoch:(Validation) 35. Loss: 1.2735810279846191. Accuracy: 89.1891891891892\n",
            "Epoch:(Training) 40. Loss: 1.163265347480774. Accuracy: 87.02290076335878\n",
            "Epoch:(Validation) 40. Loss: 1.1959015130996704. Accuracy: 89.1891891891892\n",
            "Epoch:(Training) 45. Loss: 1.0366116762161255. Accuracy: 88.04071246819339\n",
            "Epoch:(Validation) 45. Loss: 1.1527999639511108. Accuracy: 90.09009009009009\n",
            "Epoch:(Training) 50. Loss: 0.9245085716247559. Accuracy: 90.20356234096693\n",
            "Epoch:(Validation) 50. Loss: 1.1339454650878906. Accuracy: 89.1891891891892\n",
            "Epoch:(Training) 55. Loss: 0.820992112159729. Accuracy: 90.83969465648855\n",
            "Epoch:(Validation) 55. Loss: 1.1397475004196167. Accuracy: 88.28828828828829\n",
            "Epoch:(Training) 60. Loss: 0.7240124344825745. Accuracy: 91.85750636132316\n",
            "Epoch:(Validation) 60. Loss: 1.178239107131958. Accuracy: 88.28828828828829\n",
            "Epoch:(Training) 65. Loss: 0.627156674861908. Accuracy: 92.74809160305344\n",
            "Epoch:(Validation) 65. Loss: 1.2516249418258667. Accuracy: 89.1891891891892\n",
            "Epoch:(Training) 70. Loss: 0.5350652933120728. Accuracy: 93.63867684478372\n",
            "Epoch:(Validation) 70. Loss: 1.2837072610855103. Accuracy: 88.28828828828829\n",
            "Epoch:(Training) 75. Loss: 0.4417288303375244. Accuracy: 94.27480916030534\n",
            "Epoch:(Validation) 75. Loss: 1.3007521629333496. Accuracy: 87.38738738738739\n",
            "Epoch:(Training) 80. Loss: 0.3612000346183777. Accuracy: 95.80152671755725\n",
            "Epoch:(Validation) 80. Loss: 1.422001600265503. Accuracy: 87.38738738738739\n",
            "Epoch:(Training) 85. Loss: 0.3101288974285126. Accuracy: 97.07379134860051\n",
            "Epoch:(Validation) 85. Loss: 1.1831218004226685. Accuracy: 89.1891891891892\n",
            "Epoch:(Training) 90. Loss: 0.20242464542388916. Accuracy: 98.47328244274809\n",
            "Epoch:(Validation) 90. Loss: 1.2348123788833618. Accuracy: 91.89189189189189\n",
            "Epoch:(Training) 95. Loss: 0.16339822113513947. Accuracy: 99.23664122137404\n",
            "Epoch:(Validation) 95. Loss: 1.2664850950241089. Accuracy: 90.990990990991\n",
            "Epoch:(Training) 100. Loss: 0.1007978692650795. Accuracy: 99.74554707379134\n",
            "Epoch:(Validation) 100. Loss: 1.364936113357544. Accuracy: 90.990990990991\n",
            "Batch Size 64\n",
            "Epoch:(Training) 5. Loss: 2.2433385848999023. Accuracy: 40.966921119592875\n",
            "Epoch:(Validation) 5. Loss: 2.4320836067199707. Accuracy: 39.63963963963964\n",
            "Epoch:(Training) 10. Loss: 2.0734663009643555. Accuracy: 42.36641221374046\n",
            "Epoch:(Validation) 10. Loss: 2.2113685607910156. Accuracy: 41.44144144144144\n",
            "Epoch:(Training) 15. Loss: 1.72744619846344. Accuracy: 54.32569974554708\n",
            "Epoch:(Validation) 15. Loss: 1.786911964416504. Accuracy: 57.65765765765766\n",
            "Epoch:(Training) 20. Loss: 1.2831774950027466. Accuracy: 70.10178117048346\n",
            "Epoch:(Validation) 20. Loss: 1.2628059387207031. Accuracy: 79.27927927927928\n",
            "Epoch:(Training) 25. Loss: 1.0189294815063477. Accuracy: 78.7531806615776\n",
            "Epoch:(Validation) 25. Loss: 0.9412636756896973. Accuracy: 81.98198198198199\n",
            "Epoch:(Training) 30. Loss: 0.8937860727310181. Accuracy: 80.40712468193384\n",
            "Epoch:(Validation) 30. Loss: 0.8022081255912781. Accuracy: 85.58558558558559\n",
            "Epoch:(Training) 35. Loss: 0.8227731585502625. Accuracy: 81.93384223918575\n",
            "Epoch:(Validation) 35. Loss: 0.7344648241996765. Accuracy: 87.38738738738739\n",
            "Epoch:(Training) 40. Loss: 0.7709596753120422. Accuracy: 82.69720101781171\n",
            "Epoch:(Validation) 40. Loss: 0.693111777305603. Accuracy: 87.38738738738739\n",
            "Epoch:(Training) 45. Loss: 0.7274810075759888. Accuracy: 84.2239185750636\n",
            "Epoch:(Validation) 45. Loss: 0.6603485941886902. Accuracy: 87.38738738738739\n",
            "Epoch:(Training) 50. Loss: 0.6876539587974548. Accuracy: 85.24173027989822\n",
            "Epoch:(Validation) 50. Loss: 0.6328493356704712. Accuracy: 88.28828828828829\n",
            "Epoch:(Training) 55. Loss: 0.6493057608604431. Accuracy: 86.00508905852418\n",
            "Epoch:(Validation) 55. Loss: 0.6078981757164001. Accuracy: 88.28828828828829\n",
            "Epoch:(Training) 60. Loss: 0.6106843948364258. Accuracy: 86.51399491094148\n",
            "Epoch:(Validation) 60. Loss: 0.5848698616027832. Accuracy: 89.1891891891892\n",
            "Epoch:(Training) 65. Loss: 0.5726775527000427. Accuracy: 87.02290076335878\n",
            "Epoch:(Validation) 65. Loss: 0.56427001953125. Accuracy: 90.09009009009009\n",
            "Epoch:(Training) 70. Loss: 0.5348528027534485. Accuracy: 87.65903307888041\n",
            "Epoch:(Validation) 70. Loss: 0.5451154112815857. Accuracy: 90.09009009009009\n",
            "Epoch:(Training) 75. Loss: 0.4967183470726013. Accuracy: 88.67684478371501\n",
            "Epoch:(Validation) 75. Loss: 0.5282345414161682. Accuracy: 89.1891891891892\n",
            "Epoch:(Training) 80. Loss: 0.45921310782432556. Accuracy: 89.56743002544529\n",
            "Epoch:(Validation) 80. Loss: 0.5137724876403809. Accuracy: 89.1891891891892\n",
            "Epoch:(Training) 85. Loss: 0.4229608178138733. Accuracy: 90.71246819338423\n",
            "Epoch:(Validation) 85. Loss: 0.5011822581291199. Accuracy: 89.1891891891892\n",
            "Epoch:(Training) 90. Loss: 0.3883832097053528. Accuracy: 91.0941475826972\n",
            "Epoch:(Validation) 90. Loss: 0.4894073009490967. Accuracy: 90.09009009009009\n",
            "Epoch:(Training) 95. Loss: 0.35701560974121094. Accuracy: 91.73027989821882\n",
            "Epoch:(Validation) 95. Loss: 0.48108112812042236. Accuracy: 90.09009009009009\n",
            "Epoch:(Training) 100. Loss: 0.3231242299079895. Accuracy: 92.87531806615776\n",
            "Epoch:(Validation) 100. Loss: 0.4790649712085724. Accuracy: 90.09009009009009\n",
            "Batch Size 128\n",
            "Epoch:(Training) 5. Loss: 1.2381696701049805. Accuracy: 19.083969465648856\n",
            "Epoch:(Validation) 5. Loss: 1.2527583837509155. Accuracy: 18.91891891891892\n",
            "Epoch:(Training) 10. Loss: 1.2274514436721802. Accuracy: 19.083969465648856\n",
            "Epoch:(Validation) 10. Loss: 1.2399486303329468. Accuracy: 18.91891891891892\n",
            "Epoch:(Training) 15. Loss: 1.2122870683670044. Accuracy: 45.92875318066158\n",
            "Epoch:(Validation) 15. Loss: 1.2215094566345215. Accuracy: 54.054054054054056\n",
            "Epoch:(Training) 20. Loss: 1.1859092712402344. Accuracy: 38.295165394402034\n",
            "Epoch:(Validation) 20. Loss: 1.1892246007919312. Accuracy: 35.13513513513514\n",
            "Epoch:(Training) 25. Loss: 1.135412573814392. Accuracy: 39.94910941475827\n",
            "Epoch:(Validation) 25. Loss: 1.128222942352295. Accuracy: 37.83783783783784\n",
            "Epoch:(Training) 30. Loss: 1.056767225265503. Accuracy: 44.783715012722645\n",
            "Epoch:(Validation) 30. Loss: 1.0383286476135254. Accuracy: 44.14414414414414\n",
            "Epoch:(Training) 35. Loss: 0.9746904373168945. Accuracy: 49.23664122137404\n",
            "Epoch:(Validation) 35. Loss: 0.949399471282959. Accuracy: 54.95495495495496\n",
            "Epoch:(Training) 40. Loss: 0.8927466869354248. Accuracy: 55.725190839694655\n",
            "Epoch:(Validation) 40. Loss: 0.8630475997924805. Accuracy: 57.65765765765766\n",
            "Epoch:(Training) 45. Loss: 0.8102068901062012. Accuracy: 63.61323155216285\n",
            "Epoch:(Validation) 45. Loss: 0.7749233841896057. Accuracy: 64.86486486486487\n",
            "Epoch:(Training) 50. Loss: 0.7206882834434509. Accuracy: 72.264631043257\n",
            "Epoch:(Validation) 50. Loss: 0.6742168068885803. Accuracy: 72.97297297297297\n",
            "Epoch:(Training) 55. Loss: 0.6269286870956421. Accuracy: 76.20865139949109\n",
            "Epoch:(Validation) 55. Loss: 0.5655002593994141. Accuracy: 81.98198198198199\n",
            "Epoch:(Training) 60. Loss: 0.5482269525527954. Accuracy: 79.13486005089058\n",
            "Epoch:(Validation) 60. Loss: 0.4760330617427826. Accuracy: 84.68468468468468\n",
            "Epoch:(Training) 65. Loss: 0.4945167899131775. Accuracy: 80.78880407124682\n",
            "Epoch:(Validation) 65. Loss: 0.4180038869380951. Accuracy: 86.48648648648648\n",
            "Epoch:(Training) 70. Loss: 0.45954084396362305. Accuracy: 81.6793893129771\n",
            "Epoch:(Validation) 70. Loss: 0.3828607499599457. Accuracy: 86.48648648648648\n",
            "Epoch:(Training) 75. Loss: 0.43505412340164185. Accuracy: 81.55216284987277\n",
            "Epoch:(Validation) 75. Loss: 0.3613796532154083. Accuracy: 85.58558558558559\n",
            "Epoch:(Training) 80. Loss: 0.41654253005981445. Accuracy: 82.18829516539441\n",
            "Epoch:(Validation) 80. Loss: 0.3473106920719147. Accuracy: 85.58558558558559\n",
            "Epoch:(Training) 85. Loss: 0.40149617195129395. Accuracy: 82.95165394402035\n",
            "Epoch:(Validation) 85. Loss: 0.3369523882865906. Accuracy: 84.68468468468468\n",
            "Epoch:(Training) 90. Loss: 0.3884679079055786. Accuracy: 83.58778625954199\n",
            "Epoch:(Validation) 90. Loss: 0.3292139768600464. Accuracy: 84.68468468468468\n",
            "Epoch:(Training) 95. Loss: 0.3768937587738037. Accuracy: 83.7150127226463\n",
            "Epoch:(Validation) 95. Loss: 0.3230617940425873. Accuracy: 86.48648648648648\n",
            "Epoch:(Training) 100. Loss: 0.36601361632347107. Accuracy: 84.60559796437659\n",
            "Epoch:(Validation) 100. Loss: 0.31778913736343384. Accuracy: 86.48648648648648\n",
            "optimal batch size  32\n"
          ]
        }
      ],
      "source": [
        "#HINT: note that your training time should not take many days.\n",
        "\n",
        "\n",
        "\n",
        "#TODO:\n",
        "#Pick your hyper parameters\n",
        "max_epoch = 100 #100\n",
        "train_batch = 64\n",
        "test_batch = 64\n",
        "learning_rate = (5e-2,5e-3,5e-4)\n",
        "momentum = 0.5\n",
        "weight_decay = 5e-04\n",
        "\n",
        "optimalLearn = -1\n",
        "maxAcc = -1\n",
        "\n",
        "train_loader = torch.utils.data.DataLoader(train_dataset, batch_size=train_batch,\n",
        "                                          shuffle=False)\n",
        "\n",
        "test_loader = torch.utils.data.DataLoader(test_dataset, batch_size=test_batch,\n",
        "                                         shuffle=False)\n",
        "\n",
        "val_loader = torch.utils.data.DataLoader(val_dataset, batch_size=train_batch,\n",
        "                                         shuffle=False)\n",
        "\n",
        "input_size = 3*224*224\n",
        "output_size = 4\n",
        "\n",
        "# TODO: training loop + eval\n",
        "\n",
        "criterion = nn.CrossEntropyLoss()\n",
        "\n",
        "for lrate in learning_rate:\n",
        "  print(\"LR\",lrate)\n",
        "  modelCnn = ConvNet().to(device)\n",
        "  optimizer = torch.optim.SGD(modelCnn.parameters(), lr = lrate)\n",
        "  for i in range (0,max_epoch):\n",
        "    correct = 0\n",
        "    total = 0\n",
        "    loss_t = 0\n",
        "    for j,(images, labels) in enumerate(train_loader):\n",
        "\n",
        "      images = images.to(device)\n",
        "      labels = labels.to(device)\n",
        "\n",
        "      outputs = modelCnn(images)\n",
        "      loss = criterion(outputs, labels.long())\n",
        "\n",
        "      optimizer.zero_grad()\n",
        "      loss.backward()\n",
        "      optimizer.step()\n",
        "\n",
        "      loss_t = loss_t + criterion(outputs, labels.long())\n",
        "      _, predicted = torch.max(outputs.data, 1)\n",
        "\n",
        "      total += labels.size(0)\n",
        "\n",
        "      if torch.cuda.is_available():\n",
        "          correct += (predicted.cpu() == labels.cpu()).sum()\n",
        "      else:\n",
        "          correct += (predicted == labels).sum()\n",
        "        \n",
        "      accuracy = 100 * correct.item() / total\n",
        "      \n",
        "      if j == len(train_loader) - 1:\n",
        "        \n",
        "        loss_t = 100 * loss_t / total\n",
        "        if (i+1) % 5 == 0:\n",
        "          print('Epoch:(Training) {}. Loss: {}. Accuracy: {}'.format(i+1, loss_t, accuracy))\n",
        "\n",
        "        correctV = 0\n",
        "        totalV = 0\n",
        "        loss_v =0\n",
        "        for images, labels in val_loader:\n",
        "\n",
        "            images = images.to(device)\n",
        "\n",
        "            outputs = modelCnn(images)\n",
        "\n",
        "            loss_v = loss_v + criterion(outputs, labels.long())\n",
        "\n",
        "            _, predicted = torch.max(outputs.data, 1)\n",
        "\n",
        "            totalV += labels.size(0)\n",
        "\n",
        "            if torch.cuda.is_available():\n",
        "                correctV += (predicted.cpu() == labels.cpu()).sum()\n",
        "            else:\n",
        "                correctV += (predicted == labels).sum()\n",
        "\n",
        "        accuracyV = 100 * correctV.item() / totalV\n",
        "        loss_v = 100 * loss_v / totalV\n",
        "        if (i+1) % 5 == 0:\n",
        "          print('Epoch:(Validation)  {}. Loss: {}. Accuracy: {}'.format(i+1, loss_v, accuracyV))\n",
        "        \n",
        "        if (i+1) == max_epoch:\n",
        "          if ( accuracyV > maxAcc):\n",
        "            maxAcc = accuracyV\n",
        "            optimalLearn = lrate\n",
        "\n",
        "print(\"optimal learning parameter\",optimalLearn)\n",
        "\n",
        "\n",
        "optimalBatch = -1\n",
        "maxAcc = -1\n",
        "\n",
        "\n",
        "batchSizes = ( 32,64,128)\n",
        "criterion = nn.CrossEntropyLoss()\n",
        "\n",
        "\n",
        "for batchS in batchSizes:\n",
        "  print(\"Batch Size\",batchS)\n",
        "  \n",
        "  modelCnn = ConvNet().to(device)\n",
        "  optimizer = torch.optim.SGD(modelCnn.parameters(), lr = optimalLearn)\n",
        "\n",
        "  train_loader = torch.utils.data.DataLoader(train_dataset, batch_size=batchS,\n",
        "                                          shuffle=False)\n",
        "\n",
        "  val_loader = torch.utils.data.DataLoader(val_dataset, batch_size=batchS,\n",
        "                                         shuffle=False)\n",
        "  for i in range (0,max_epoch):\n",
        "    correct = 0\n",
        "    total = 0\n",
        "    loss_t = 0\n",
        "    for j,(images, labels) in enumerate(train_loader):\n",
        "\n",
        "    \n",
        "      images = images.to(device)\n",
        "      labels = labels.to(device)\n",
        "\n",
        "      outputs = modelCnn(images)\n",
        "      loss = criterion(outputs, labels.long())\n",
        "\n",
        "      optimizer.zero_grad()\n",
        "      loss.backward()\n",
        "      optimizer.step()\n",
        "\n",
        "      loss_t = loss_t + criterion(outputs, labels.long())\n",
        "      _, predicted = torch.max(outputs.data, 1)\n",
        "\n",
        "      total += labels.size(0)\n",
        "\n",
        "      if torch.cuda.is_available():\n",
        "          correct += (predicted.cpu() == labels.cpu()).sum()\n",
        "      else:\n",
        "          correct += (predicted == labels).sum()\n",
        "        \n",
        "      #accuracy = 100 * correct.item() / total\n",
        "      #loss_t = 100 * loss_t / total\n",
        "      if j == len(train_loader) - 1:\n",
        "        \n",
        "        accuracy = 100 * correct.item() / total\n",
        "        loss_t = 100 * loss_t / total\n",
        "        if (i+1) % 5 == 0:\n",
        "          print('Epoch:(Training) {}. Loss: {}. Accuracy: {}'.format(i+1, loss_t, accuracy))\n",
        "\n",
        "        correctV = 0\n",
        "        totalV = 0\n",
        "        loss_v =0\n",
        "        for images, labels in val_loader:\n",
        "\n",
        "            images = images.to(device)\n",
        "\n",
        "            outputs = modelCnn(images)\n",
        "\n",
        "            loss_v = loss_v + criterion(outputs, labels.long())\n",
        "\n",
        "            _, predicted = torch.max(outputs.data, 1)\n",
        "\n",
        "            totalV += labels.size(0)\n",
        "\n",
        "            if torch.cuda.is_available():\n",
        "                correctV += (predicted.cpu() == labels.cpu()).sum()\n",
        "            else:\n",
        "                correctV += (predicted == labels).sum()\n",
        "\n",
        "        accuracyV = 100 * correctV.item() / totalV\n",
        "        loss_v = 100 * loss_v / totalV\n",
        "            # Print Loss\n",
        "        if (i+1) % 5 == 0:\n",
        "          print('Epoch:(Validation) {}. Loss: {}. Accuracy: {}'.format(i+1, loss_v, accuracyV))\n",
        "        \n",
        "        if (i+1) == max_epoch:\n",
        "          if ( accuracyV > maxAcc):\n",
        "            maxAcc = accuracyV\n",
        "            optimalBatch = batchS\n",
        "\n",
        "print(\"optimal batch size \",optimalBatch)"
      ]
    },
    {
      "cell_type": "code",
      "execution_count": null,
      "metadata": {
        "colab": {
          "base_uri": "https://localhost:8080/"
        },
        "id": "x_uBPBWAJWMz",
        "outputId": "5a4312d9-b516-43b7-d0bc-3c6931c83834"
      },
      "outputs": [
        {
          "output_type": "stream",
          "name": "stdout",
          "text": [
            "Epoch: Training 5. Loss: 4.19624137878418. Accuracy: 35.49618320610687\n",
            "Epoch: Validation 5. Loss: 4.624382972717285. Accuracy: 40.54054054054054\n",
            "Epoch: Training 10. Loss: 2.956023693084717. Accuracy: 63.74045801526717\n",
            "Epoch: Validation 10. Loss: 3.0665998458862305. Accuracy: 71.17117117117117\n",
            "Epoch: Training 15. Loss: 2.2283546924591064. Accuracy: 74.42748091603053\n",
            "Epoch: Validation 15. Loss: 2.2754921913146973. Accuracy: 74.77477477477477\n",
            "Epoch: Training 20. Loss: 1.8772212266921997. Accuracy: 78.7531806615776\n",
            "Epoch: Validation 20. Loss: 1.8927702903747559. Accuracy: 81.98198198198199\n",
            "Epoch: Training 25. Loss: 1.621863603591919. Accuracy: 81.55216284987277\n",
            "Epoch: Validation 25. Loss: 1.667288899421692. Accuracy: 82.88288288288288\n",
            "Epoch: Training 30. Loss: 1.4365341663360596. Accuracy: 83.20610687022901\n",
            "Epoch: Validation 30. Loss: 1.5301852226257324. Accuracy: 83.78378378378379\n",
            "Epoch: Training 35. Loss: 1.2819850444793701. Accuracy: 84.2239185750636\n",
            "Epoch: Validation 35. Loss: 1.4436925649642944. Accuracy: 84.68468468468468\n",
            "Epoch: Training 40. Loss: 1.1403478384017944. Accuracy: 85.75063613231552\n",
            "Epoch: Validation 40. Loss: 1.3835384845733643. Accuracy: 84.68468468468468\n",
            "Epoch: Training 45. Loss: 1.0171420574188232. Accuracy: 86.76844783715013\n",
            "Epoch: Validation 45. Loss: 1.3435136079788208. Accuracy: 84.68468468468468\n",
            "Epoch: Training 50. Loss: 0.9152325987815857. Accuracy: 87.78625954198473\n",
            "Epoch: Validation 50. Loss: 1.3571280241012573. Accuracy: 85.58558558558559\n",
            "Epoch: Training 55. Loss: 0.8272202610969543. Accuracy: 89.82188295165395\n",
            "Epoch: Validation 55. Loss: 1.3954136371612549. Accuracy: 85.58558558558559\n",
            "Epoch: Training 60. Loss: 0.7434836626052856. Accuracy: 90.71246819338423\n",
            "Epoch: Validation 60. Loss: 1.4388762712478638. Accuracy: 86.48648648648648\n",
            "Epoch: Training 65. Loss: 0.6743417978286743. Accuracy: 91.98473282442748\n",
            "Epoch: Validation 65. Loss: 1.480025291442871. Accuracy: 85.58558558558559\n",
            "Epoch: Training 70. Loss: 0.6093409061431885. Accuracy: 93.12977099236642\n",
            "Epoch: Validation 70. Loss: 1.6168521642684937. Accuracy: 85.58558558558559\n",
            "Epoch: Training 75. Loss: 0.5204765796661377. Accuracy: 94.14758269720102\n",
            "Epoch: Validation 75. Loss: 1.8698172569274902. Accuracy: 82.88288288288288\n",
            "Epoch: Training 80. Loss: 0.574436366558075. Accuracy: 94.0203562340967\n",
            "Epoch: Validation 80. Loss: 1.5963823795318604. Accuracy: 87.38738738738739\n",
            "Epoch: Training 85. Loss: 0.38184598088264465. Accuracy: 95.92875318066157\n",
            "Epoch: Validation 85. Loss: 1.6960333585739136. Accuracy: 87.38738738738739\n",
            "Epoch: Training 90. Loss: 0.32782602310180664. Accuracy: 96.81933842239185\n",
            "Epoch: Validation 90. Loss: 1.7695441246032715. Accuracy: 86.48648648648648\n",
            "Epoch: Training 95. Loss: 0.4476470947265625. Accuracy: 95.92875318066157\n",
            "Epoch: Validation 95. Loss: 2.0870375633239746. Accuracy: 82.88288288288288\n",
            "Epoch: Training 100. Loss: 0.27998900413513184. Accuracy: 97.32824427480917\n",
            "Epoch: Validation 100. Loss: 2.034384250640869. Accuracy: 81.98198198198199\n"
          ]
        }
      ],
      "source": [
        "##Drawing plots with the best hyperparameters on training and validation sets and training the model with fcn last time\n",
        "accuracy_list_val_cnn = []\n",
        "accuracy_list_train_cnn = []\n",
        "\n",
        "loss_val_cnn =[]\n",
        "loss_train_cnn = []\n",
        "epoch_list_cnn = []\n",
        "\n",
        "train_loader = torch.utils.data.DataLoader(train_dataset, batch_size=optimalBatch,\n",
        "                                          shuffle=False)\n",
        "\n",
        "val_loader = torch.utils.data.DataLoader(val_dataset, batch_size=optimalBatch,\n",
        "                                         shuffle=False)\n",
        "\n",
        "modelCnn = ConvNet().to(device)\n",
        "criterion = nn.CrossEntropyLoss()\n",
        "optimizer = torch.optim.SGD(modelCnn.parameters(), lr = optimalLearn)\n",
        "\n",
        "for i in range (0,max_epoch):\n",
        "    correct = 0\n",
        "    total = 0\n",
        "    loss_t = 0\n",
        "    for j,(images, labels) in enumerate(train_loader):\n",
        "\n",
        "    \n",
        "      images = images.to(device)\n",
        "      labels = labels.to(device)\n",
        "\n",
        "      outputs = modelCnn(images)\n",
        "      loss = criterion(outputs, labels.long())\n",
        "\n",
        "      optimizer.zero_grad()\n",
        "      loss.backward()\n",
        "      optimizer.step()\n",
        "\n",
        "      loss_t = loss_t + criterion(outputs, labels.long())\n",
        "      _, predicted = torch.max(outputs.data, 1)\n",
        "\n",
        "      total += labels.size(0)\n",
        "\n",
        "      if torch.cuda.is_available():\n",
        "          correct += (predicted.cpu() == labels.cpu()).sum()\n",
        "      else:\n",
        "          correct += (predicted == labels).sum()\n",
        "        \n",
        "      \n",
        "      if j == len(train_loader) - 1:\n",
        "        accuracy = 100 * correct.item() / total\n",
        "        loss_t = 100 * loss_t / total\n",
        "        accuracy_list_train_cnn.append(correct*100/total)\n",
        "        loss_train_cnn.append(loss_t.item())\n",
        "        if (i+1) % 5 == 0:\n",
        "          print('Epoch: Training {}. Loss: {}. Accuracy: {}'.format(i+1, loss_t, accuracy))\n",
        "\n",
        "        correctV = 0\n",
        "        totalV = 0\n",
        "        loss_v =0\n",
        "        for images, labels in val_loader:\n",
        "\n",
        "            images = images.to(device)\n",
        "\n",
        "            outputs = modelCnn(images)\n",
        "\n",
        "            loss_v = loss_v + criterion(outputs, labels.long())\n",
        "\n",
        "            _, predicted = torch.max(outputs.data, 1)\n",
        "\n",
        "                # Total number of labels\n",
        "            totalV += labels.size(0)\n",
        "\n",
        "            if torch.cuda.is_available():\n",
        "                correctV += (predicted.cpu() == labels.cpu()).sum()\n",
        "            else:\n",
        "                correctV += (predicted == labels).sum()\n",
        "\n",
        "        accuracyV = 100 * correctV.item() / totalV\n",
        "        loss_v = 100 * loss_v / totalV\n",
        "        if (i+1) % 5 == 0:\n",
        "          print('Epoch: Validation {}. Loss: {}. Accuracy: {}'.format(i+1, loss_v, accuracyV))\n",
        "        accuracy_list_val_cnn.append(correctV*100/totalV)\n",
        "        loss_val_cnn.append(loss_v.item())\n",
        "        epoch_list_cnn.append(i+1)"
      ]
    },
    {
      "cell_type": "markdown",
      "metadata": {
        "id": "vOiPy1hI44gy"
      },
      "source": [
        "### Learning Process Analysis [3 points]\n",
        "Repeating the same procedure you applied for the FCN model; you will provide two plots about how your training proceeds over epochs. Again, provide two plots: one summarizes the loss values, and the other summarizes the accuracy values. Note that each plot needs to include two curves, one for the validation set and the other for the training set."
      ]
    },
    {
      "cell_type": "code",
      "execution_count": null,
      "metadata": {
        "id": "lFwAi_zPelX6",
        "colab": {
          "base_uri": "https://localhost:8080/",
          "height": 317
        },
        "outputId": "a2eac729-c083-4f08-b987-e74918006157"
      },
      "outputs": [
        {
          "output_type": "stream",
          "name": "stdout",
          "text": [
            "Batch_size: 32 , Learning rate: 0.005\n",
            "Validation and training accuracies with optimal hyperparameters\n"
          ]
        },
        {
          "output_type": "display_data",
          "data": {
            "text/plain": [
              "<Figure size 432x288 with 1 Axes>"
            ],
            "image/png": "[encoded data removed]"
          },
          "metadata": {
            "needs_background": "light"
          }
        }
      ],
      "source": [
        "# TODO: Implement your plots here, you can use matplotlib library to do so.\n",
        "# TODO: Implement your plots here, you can use matplotlib library to do so.\n",
        "print(\"Batch_size:\",optimalBatch, \", Learning rate:\",optimalLearn)\n",
        "print(\"Validation and training accuracies with optimal hyperparameters\")\n",
        "\n",
        "plt.xlabel(\"epoch\")\n",
        "plt.ylabel(\"acc\")\n",
        "\n",
        "plt.plot(epoch_list_cnn,accuracy_list_val_cnn,label=\"validation\")\n",
        "\n",
        "plt.plot(epoch_list_cnn,accuracy_list_train_cnn, label = \"training\")\n",
        "\n",
        "plt.legend()\n",
        "\n",
        "plt.show()"
      ]
    },
    {
      "cell_type": "code",
      "execution_count": null,
      "metadata": {
        "id": "8QiAQI_6J_pz",
        "colab": {
          "base_uri": "https://localhost:8080/",
          "height": 279
        },
        "outputId": "4e84a4ba-d7db-4698-c28d-845c0ee29658"
      },
      "outputs": [
        {
          "output_type": "display_data",
          "data": {
            "text/plain": [
              "<Figure size 432x288 with 1 Axes>"
            ],
            "image/png": "[encoded data removed]"
          },
          "metadata": {
            "needs_background": "light"
          }
        }
      ],
      "source": [
        "plt.xlabel(\"epoch\")\n",
        "plt.ylabel(\"loss\")\n",
        "\n",
        "plt.plot(epoch_list_cnn,loss_val_cnn,label=\"validation\")\n",
        "\n",
        "plt.plot(epoch_list_cnn,loss_train_cnn, label = \"training\")\n",
        "\n",
        "plt.legend()\n",
        "\n",
        "plt.show()"
      ]
    },
    {
      "cell_type": "markdown",
      "metadata": {
        "id": "2Ccx_9g54-GS"
      },
      "source": [
        "### Test [4 points]\n",
        "Concluding your analysis, report the confusion matrix for the best model you obtained during your CNN model training. Then using this confusion matrix, report accuracy, recall, precision, and $F_1$ score for your best model. Use macro averaging in all of your metrics."
      ]
    },
    {
      "cell_type": "code",
      "execution_count": null,
      "metadata": {
        "id": "t7USNWHYemYo",
        "colab": {
          "base_uri": "https://localhost:8080/",
          "height": 355
        },
        "outputId": "eec4d7a0-cc84-4db8-841a-bbad94a3e987"
      },
      "outputs": [
        {
          "output_type": "stream",
          "name": "stdout",
          "text": [
            "Accuracy: 0.846\n",
            "Precision: 0.845\n",
            "Recall: 0.848\n",
            "F1 Score: 0.834\n"
          ]
        },
        {
          "output_type": "display_data",
          "data": {
            "text/plain": [
              "<Figure size 432x288 with 2 Axes>"
            ],
            "image/png": "[encoded data removed]"
          },
          "metadata": {
            "needs_background": "light"
          }
        }
      ],
      "source": [
        "# TODO: Implement your evaluation script here, provide the confusion matrix and the requested metrics\n",
        "# best model ve scorelar\n",
        "\n",
        "# TODO: Implement your evaluation script here, provide the confusion matrix and the requested metrics\n",
        "from sklearn.metrics import confusion_matrix, ConfusionMatrixDisplay\n",
        "y_true_cnn = []\n",
        "y_pred_cnn = []\n",
        "for images, labels in test_loader:\n",
        "\n",
        "    images = images.to(device)\n",
        "    outputs = modelCnn(images)\n",
        "    y_true_cnn.extend(labels)\n",
        "    _, predicted = torch.max(outputs.data, 1)\n",
        "    y_pred_cnn.extend(predicted)\n",
        "\n",
        "\n",
        "accuracy = accuracy_score(y_true_cnn, y_pred_cnn)\n",
        "precision = precision_score(y_true_cnn, y_pred_cnn,average='macro')\n",
        "recall = recall_score(y_true_cnn, y_pred_cnn,average='macro')\n",
        "f1 = f1_score(y_true_cnn, y_pred_cnn,average='macro')\n",
        "\n",
        "print(f'Accuracy: {accuracy:.3f}')\n",
        "print(f'Precision: {precision:.3f}')\n",
        "print(f'Recall: {recall:.3f}')\n",
        "print(f'F1 Score: {f1:.3f}')\n",
        "\n",
        "conf_m =confusion_matrix(y_true_cnn, y_pred_cnn)\n",
        "\n",
        "conf_graph = ConfusionMatrixDisplay(confusion_matrix= conf_m, display_labels=classes)\n",
        "\n",
        "conf_graph.plot()\n",
        "plt.show()"
      ]
    },
    {
      "cell_type": "markdown",
      "metadata": {
        "id": "vPK3UZ9besKr"
      },
      "source": [
        "### Discussion [3 points]\n",
        "Now, try to compare the two models that you trained. How different are these two models regarding the number of parameters used?\n",
        "\n",
        "Explain your findings by connecting them with your experimental results. You can include your comments on a separate Markdown cell or below the question statement."
      ]
    },
    {
      "cell_type": "markdown",
      "metadata": {
        "id": "YsU5-Bwi0wxF"
      },
      "source": [
        "#**Discussion**\n",
        "\n",
        "FCN model has the Accuracy: 0.860, Precision: 0.849, Recall: 0.848, F1 Score: 0.848 and for CNN Model it has Accuracy: 0.846, Precision: 0.845, Recall: 0.848, F1 Score: 0.834 in the same test sets. As we can see numbers are very close to each other. However, I had expected CNN model to work better as it is very good for image classification. The reason behind that can be images was not complicated and did not have much positional characteristics that CNN model can understand better than FCN model. Anohter reason may be the test set we selected even if we randomly distributed sets at the end it is possible that test set can fit with one of the models with better. In training and validation parts, accuracy of the best CNN model was better than best FCN model in general. However in test set FCN model has slightly better accuracy rate.\n",
        "\n",
        "If we look at parameters; when we look at epoch number we can see that in both models it should be bigger than a number for accuracy and loss to converges their final values. We can see in plots when epoch is bigger than 40 accuracy and loss values of validation are very close to their values in the 100th epoch. Training accuracy gets smaller in every epoch as our models' aim in each batch to is decreasing loss of that batches. Although it is not always the case, training accuracy also increases in each epoch with updated parameters. Validation accuracy and losses do not behave same with test accuracy and losses. Validation accuracies do not go high as test accuracies and validation losses do not go down as training losses. When we look at the affect of learning rate by looking prints we can see if learning rate is bigger than it starts with a higher accuracy and lower loss and it reaches to the relatives of the final value much faster. When we compare FCN and CNN we can say that CNN is more complex model and even with the same hyperparameters reaching the optimal CNN model ( highest accuracy ) takes more epochs than FCN model as we can see in the prints. For batch size, in each models 128 batch_size was worst results with accuracy so I can say increasing the batch_size too much is not a good idea.\n",
        "\n"
      ]
    },
    {
      "cell_type": "markdown",
      "metadata": {
        "id": "RaSufbDNrt_H"
      },
      "source": [
        "## Transfer Learning [22 points]\n",
        "\n",
        "As the last part of this assignment, you will practice transfer learning. In this methodology, we aim to use models trained on large-scale datasets for our task. As we do not have access to large datasets and computational resources all the time, we sometimes try to use already trained models (on other datasets) as a good starting point for our model, and then fine-tune the weights considering our task.  \n",
        "\n",
        "Torchvision library provides numerous models pretrained for specific tasks. [Here](https://pytorch.org/vision/stable/models.html), you can find a list of pretrained models. For this part, you will include [ResNet](https://arxiv.org/abs/1512.03385)-18 model, pretrained with ImageNet dataset. ImageNet is a large dataset where training from scratch would take a long time. You will fine-tune this pretrained module for your task. \n",
        "<br>\n",
        "**Hint:** You can add a Linear layer to adapt the model to the number of classes needed for your task. You can access the number of inputs to the ResNet-18 model as $\\texttt{model.fc.in_features}$ and then modify the fully connected layer of the model $\\texttt{model.fc}$.\n",
        "<br>\n",
        "\n",
        "Using the ResNet-18 backbone, implement this model's training loop (by adapting it to your task). You can implement the training procedure in the cell provided below. Again save your model based on a criterion indicating the best model. Explain the reasoning for your criteria. Use the SGD optimizer provided by PyTorch to optimize your model.\n",
        "\n",
        "Just like the previous parts, you can also tune your hyperparameters to optimize your model's performance. "
      ]
    },
    {
      "cell_type": "markdown",
      "source": [
        "🛑 I tried 4 different situations and at the end selected my hyperparameters according to the accuracy at the end of 100th epochs. So my criterion was getting the hyperparameters with the best validation accuracy at the end of trainings. It came out optimal learn rate is 0.05 and batch size is 64 for Transfer Learning model.\n"
      ],
      "metadata": {
        "id": "u9F-1tuWhmww"
      }
    },
    {
      "cell_type": "markdown",
      "metadata": {
        "id": "s1O0rHumXDob"
      },
      "source": [
        "###Training [12 points]"
      ]
    },
    {
      "cell_type": "code",
      "execution_count": null,
      "metadata": {
        "colab": {
          "base_uri": "https://localhost:8080/"
        },
        "id": "V6Fvqilcrz10",
        "outputId": "0d205d5e-345a-4a07-c150-dfff7383de6e"
      },
      "outputs": [
        {
          "output_type": "stream",
          "name": "stdout",
          "text": [
            "LR 0.05\n",
            "Epoch:(Training) 5. Loss: 0.2939363420009613. Accuracy: 94.65648854961832\n",
            "Epoch:(Validation)  5. Loss: 0.29650625586509705. Accuracy: 93.69369369369369\n",
            "Epoch:(Training) 10. Loss: 0.16760662198066711. Accuracy: 97.45547073791349\n",
            "Epoch:(Validation)  10. Loss: 0.26740437746047974. Accuracy: 95.49549549549549\n",
            "Epoch:(Training) 15. Loss: 0.12005634605884552. Accuracy: 98.72773536895674\n",
            "Epoch:(Validation)  15. Loss: 0.2647230923175812. Accuracy: 96.3963963963964\n",
            "Epoch:(Training) 20. Loss: 0.09354132413864136. Accuracy: 99.10941475826972\n",
            "Epoch:(Validation)  20. Loss: 0.26425349712371826. Accuracy: 96.3963963963964\n",
            "Epoch:(Training) 25. Loss: 0.07674871385097504. Accuracy: 99.4910941475827\n",
            "Epoch:(Validation)  25. Loss: 0.2640952467918396. Accuracy: 96.3963963963964\n",
            "Epoch:(Training) 30. Loss: 0.06515011936426163. Accuracy: 99.74554707379134\n",
            "Epoch:(Validation)  30. Loss: 0.2645903527736664. Accuracy: 96.3963963963964\n",
            "LR 0.005\n",
            "Epoch:(Training) 5. Loss: 1.0310057401657104. Accuracy: 89.05852417302799\n",
            "Epoch:(Validation)  5. Loss: 1.1485713720321655. Accuracy: 81.98198198198199\n",
            "Epoch:(Training) 10. Loss: 0.6603810787200928. Accuracy: 92.6208651399491\n",
            "Epoch:(Validation)  10. Loss: 0.7699989676475525. Accuracy: 91.89189189189189\n",
            "Epoch:(Training) 15. Loss: 0.5086106657981873. Accuracy: 94.529262086514\n",
            "Epoch:(Validation)  15. Loss: 0.6143442392349243. Accuracy: 90.990990990991\n",
            "Epoch:(Training) 20. Loss: 0.42361587285995483. Accuracy: 95.0381679389313\n",
            "Epoch:(Validation)  20. Loss: 0.5297584533691406. Accuracy: 90.990990990991\n",
            "Epoch:(Training) 25. Loss: 0.3679840564727783. Accuracy: 95.5470737913486\n",
            "Epoch:(Validation)  25. Loss: 0.47647809982299805. Accuracy: 92.7927927927928\n",
            "Epoch:(Training) 30. Loss: 0.32808560132980347. Accuracy: 96.18320610687023\n",
            "Epoch:(Validation)  30. Loss: 0.43977129459381104. Accuracy: 92.7927927927928\n",
            "optimal learning parameter 0.05\n",
            "Batch Size 32\n",
            "Epoch:(Training) 5. Loss: 0.460564523935318. Accuracy: 95.0381679389313\n",
            "Epoch:(Validation) 5. Loss: 0.7216514945030212. Accuracy: 93.69369369369369\n",
            "Epoch:(Training) 10. Loss: 0.2298761010169983. Accuracy: 98.60050890585242\n",
            "Epoch:(Validation) 10. Loss: 0.667005181312561. Accuracy: 93.69369369369369\n",
            "Epoch:(Training) 15. Loss: 0.1502305567264557. Accuracy: 99.10941475826972\n",
            "Epoch:(Validation) 15. Loss: 0.651068389415741. Accuracy: 93.69369369369369\n",
            "Epoch:(Training) 20. Loss: 0.11369048058986664. Accuracy: 99.61832061068702\n",
            "Epoch:(Validation) 20. Loss: 0.6599708795547485. Accuracy: 94.5945945945946\n",
            "Epoch:(Training) 25. Loss: 0.09246949106454849. Accuracy: 99.87277353689568\n",
            "Epoch:(Validation) 25. Loss: 0.6774382591247559. Accuracy: 93.69369369369369\n",
            "Epoch:(Training) 30. Loss: 0.07813942432403564. Accuracy: 99.87277353689568\n",
            "Epoch:(Validation) 30. Loss: 0.6950138807296753. Accuracy: 93.69369369369369\n",
            "Batch Size 64\n",
            "Epoch:(Training) 5. Loss: 0.30392202734947205. Accuracy: 93.76590330788804\n",
            "Epoch:(Validation) 5. Loss: 0.3038240075111389. Accuracy: 94.5945945945946\n",
            "Epoch:(Training) 10. Loss: 0.1675802767276764. Accuracy: 97.58269720101781\n",
            "Epoch:(Validation) 10. Loss: 0.2638278901576996. Accuracy: 92.7927927927928\n",
            "Epoch:(Training) 15. Loss: 0.12035093456506729. Accuracy: 98.60050890585242\n",
            "Epoch:(Validation) 15. Loss: 0.2592707872390747. Accuracy: 93.69369369369369\n",
            "Epoch:(Training) 20. Loss: 0.09398256242275238. Accuracy: 99.23664122137404\n",
            "Epoch:(Validation) 20. Loss: 0.25838008522987366. Accuracy: 95.49549549549549\n",
            "Epoch:(Training) 25. Loss: 0.07711579650640488. Accuracy: 99.4910941475827\n",
            "Epoch:(Validation) 25. Loss: 0.25773972272872925. Accuracy: 95.49549549549549\n",
            "Epoch:(Training) 30. Loss: 0.0653957650065422. Accuracy: 99.74554707379134\n",
            "Epoch:(Validation) 30. Loss: 0.25743627548217773. Accuracy: 96.3963963963964\n",
            "optimal batch size  64\n"
          ]
        }
      ],
      "source": [
        "#HINT: note that your training time should not take many days.\n",
        "\n",
        "\n",
        "import torch\n",
        "from torchvision import models\n",
        "\n",
        "\n",
        "modelTL = models.resnet18(pretrained=True)\n",
        "\n",
        "for param in modelTL.parameters():\n",
        "    param.requires_grad = False\n",
        "\n",
        "\n",
        "num_ftrs = modelTL.fc.in_features\n",
        "modelTL.fc = torch.nn.Linear(num_ftrs, 4)\n",
        "\n",
        "\n",
        "#TODO:\n",
        "#Pick your hyper parameters\n",
        "max_epoch = 30 #100\n",
        "train_batch = 64\n",
        "test_batch = 64\n",
        "learning_rate = (5e-2,5e-3)\n",
        "momentum = 0.5\n",
        "weight_decay = 5e-04\n",
        "\n",
        "optimalLearn = -1\n",
        "maxAcc = -1\n",
        "\n",
        "train_loader = torch.utils.data.DataLoader(train_dataset, batch_size=train_batch,\n",
        "                                          shuffle=False)\n",
        "\n",
        "test_loader = torch.utils.data.DataLoader(test_dataset, batch_size=test_batch,\n",
        "                                         shuffle=False)\n",
        "\n",
        "val_loader = torch.utils.data.DataLoader(val_dataset, batch_size=train_batch,\n",
        "                                         shuffle=False)\n",
        "\n",
        "input_size = 3*224*224\n",
        "output_size = 4\n",
        "\n",
        "res = models.resnet18(pretrained=True)\n",
        "# TODO: training loop + eval\n",
        "\"\"\"\n",
        "iter = 0\n",
        "accuracy_list_val = []\n",
        "accuracy_list_train = []\n",
        "\n",
        "loss_val =[]\n",
        "loss_train = []\n",
        "epoch_list = []\n",
        "\"\"\"\n",
        "criterion = nn.CrossEntropyLoss()\n",
        "\n",
        "for lrate in learning_rate:\n",
        "  print(\"LR\",lrate)\n",
        "  # Load the pre-trained ResNet-18 model\n",
        "  modelTL = res\n",
        "\n",
        "  # Freeze the model weights\n",
        "  for param in modelTL.parameters():\n",
        "    param.requires_grad = False\n",
        "\n",
        "  # Replace the final fully-connected layer with a new one\n",
        "  num_ftrs = modelTL.fc.in_features\n",
        "  modelTL.fc = torch.nn.Linear(num_ftrs, 4)\n",
        "  modelTL = modelTL.to(device)\n",
        "  \n",
        "  optimizer = torch.optim.SGD(modelTL.parameters(), lr = lrate)\n",
        "  for i in range (0,max_epoch):\n",
        "    correct = 0\n",
        "    total = 0\n",
        "    loss_t = 0\n",
        "    for j,(images, labels) in enumerate(train_loader):\n",
        "\n",
        "      images = images.to(device)\n",
        "      labels = labels.to(device)\n",
        "\n",
        "      outputs = modelTL(images)\n",
        "      loss = criterion(outputs, labels.long())\n",
        "\n",
        "      optimizer.zero_grad()\n",
        "      loss.backward()\n",
        "      optimizer.step()\n",
        "\n",
        "      loss_t = loss_t + criterion(outputs, labels.long())\n",
        "      _, predicted = torch.max(outputs.data, 1)\n",
        "\n",
        "      total += labels.size(0)\n",
        "\n",
        "      if torch.cuda.is_available():\n",
        "          correct += (predicted.cpu() == labels.cpu()).sum()\n",
        "      else:\n",
        "          correct += (predicted == labels).sum()\n",
        "        \n",
        "      accuracy = 100 * correct.item() / total\n",
        "      \n",
        "      if j == len(train_loader) - 1:\n",
        "        \"\"\"\n",
        "        accuracy_list_train.append(correct*100/total)\n",
        "        loss_train.append(loss_t.item())\n",
        "        \"\"\"\n",
        "        loss_t = 100 * loss_t / total\n",
        "        if (i+1) % 5 == 0:\n",
        "          print('Epoch:(Training) {}. Loss: {}. Accuracy: {}'.format(i+1, loss_t, accuracy))\n",
        "\n",
        "        correctV = 0\n",
        "        totalV = 0\n",
        "        loss_v =0\n",
        "        for images, labels in val_loader:\n",
        "\n",
        "            #images = images.view(-1, 3,224,224).to(device)\n",
        "            images = images.to(device)\n",
        "\n",
        "            outputs = modelTL(images)\n",
        "\n",
        "            loss_v = loss_v + criterion(outputs, labels.long())\n",
        "\n",
        "            _, predicted = torch.max(outputs.data, 1)\n",
        "\n",
        "                # Total number of labels\n",
        "            totalV += labels.size(0)\n",
        "\n",
        "            if torch.cuda.is_available():\n",
        "                correctV += (predicted.cpu() == labels.cpu()).sum()\n",
        "            else:\n",
        "                correctV += (predicted == labels).sum()\n",
        "\n",
        "        accuracyV = 100 * correctV.item() / totalV\n",
        "        loss_v = 100 * loss_v / totalV\n",
        "        if (i+1) % 5 == 0:\n",
        "          print('Epoch:(Validation)  {}. Loss: {}. Accuracy: {}'.format(i+1, loss_v, accuracyV))\n",
        "        \"\"\"\n",
        "        accuracy_list_val.append(correctV*100/totalV)\n",
        "        loss_val.append(loss_v.item())\n",
        "        epoch_list.append(i+1)\n",
        "        \"\"\"\n",
        "        if (i+1) == max_epoch:\n",
        "          if ( accuracyV > maxAcc):\n",
        "            maxAcc = accuracyV\n",
        "            optimalLearn = lrate\n",
        "\n",
        "print(\"optimal learning parameter\",optimalLearn)\n",
        "\n",
        "\n",
        "optimalBatch = -1\n",
        "maxAcc = -1\n",
        "\n",
        "\n",
        "batchSizes = ( 32,64)\n",
        "criterion = nn.CrossEntropyLoss()\n",
        "\n",
        "\n",
        "for batchS in batchSizes:\n",
        "  print(\"Batch Size\",batchS)\n",
        "  \n",
        "  modelTL = res\n",
        "\n",
        "  # Freeze the model weights\n",
        "  for param in modelTL.parameters():\n",
        "    param.requires_grad = False\n",
        "\n",
        "  # Replace the final fully-connected layer with a new one\n",
        "  num_ftrs = modelTL.fc.in_features\n",
        "  modelTL.fc = torch.nn.Linear(num_ftrs, 4)\n",
        "  modelTL = modelTL.to(device)\n",
        "  optimizer = torch.optim.SGD(modelTL.parameters(), lr = optimalLearn)\n",
        "\n",
        "  train_loader = torch.utils.data.DataLoader(train_dataset, batch_size=batchS,\n",
        "                                          shuffle=False)\n",
        "\n",
        "  val_loader = torch.utils.data.DataLoader(val_dataset, batch_size=batchS,\n",
        "                                         shuffle=False)\n",
        "  for i in range (0,max_epoch):\n",
        "    correct = 0\n",
        "    total = 0\n",
        "    loss_t = 0\n",
        "    for j,(images, labels) in enumerate(train_loader):\n",
        "\n",
        "    \n",
        "      images = images.to(device)\n",
        "      labels = labels.to(device)\n",
        "\n",
        "      outputs = modelTL(images)\n",
        "      loss = criterion(outputs, labels.long())\n",
        "\n",
        "      optimizer.zero_grad()\n",
        "      loss.backward()\n",
        "      optimizer.step()\n",
        "\n",
        "      loss_t = loss_t + criterion(outputs, labels.long())\n",
        "      _, predicted = torch.max(outputs.data, 1)\n",
        "\n",
        "      total += labels.size(0)\n",
        "\n",
        "      if torch.cuda.is_available():\n",
        "          correct += (predicted.cpu() == labels.cpu()).sum()\n",
        "      else:\n",
        "          correct += (predicted == labels).sum()\n",
        "        \n",
        "      #accuracy = 100 * correct.item() / total\n",
        "      #loss_t = 100 * loss_t / total\n",
        "      if j == len(train_loader) - 1:\n",
        "        \"\"\"\n",
        "        accuracy_list_train.append(correct*100/total)\n",
        "        loss_train.append(loss_t.item())\n",
        "        \"\"\"\n",
        "        accuracy = 100 * correct.item() / total\n",
        "        loss_t = 100 * loss_t / total\n",
        "        if (i+1) % 5 == 0:\n",
        "          print('Epoch:(Training) {}. Loss: {}. Accuracy: {}'.format(i+1, loss_t, accuracy))\n",
        "\n",
        "        correctV = 0\n",
        "        totalV = 0\n",
        "        loss_v =0\n",
        "        for images, labels in val_loader:\n",
        "\n",
        "            images = images.to(device)\n",
        "\n",
        "            outputs = modelTL(images)\n",
        "\n",
        "            loss_v = loss_v + criterion(outputs, labels.long())\n",
        "\n",
        "            _, predicted = torch.max(outputs.data, 1)\n",
        "\n",
        "            totalV += labels.size(0)\n",
        "\n",
        "            if torch.cuda.is_available():\n",
        "                correctV += (predicted.cpu() == labels.cpu()).sum()\n",
        "            else:\n",
        "                correctV += (predicted == labels).sum()\n",
        "\n",
        "        accuracyV = 100 * correctV.item() / totalV\n",
        "        loss_v = 100 * loss_v / totalV\n",
        "            # Print Loss\n",
        "        if (i+1) % 5 == 0:\n",
        "          print('Epoch:(Validation) {}. Loss: {}. Accuracy: {}'.format(i+1, loss_v, accuracyV))\n",
        "        \"\"\"\n",
        "        accuracy_list_val.append(correctV*100/totalV)\n",
        "        loss_val.append(loss_v.item())\n",
        "        epoch_list.append(i+1)\n",
        "        \"\"\"\n",
        "        if (i+1) == max_epoch:\n",
        "          if ( accuracyV > maxAcc):\n",
        "            maxAcc = accuracyV\n",
        "            optimalBatch = batchS\n",
        "\n",
        "print(\"optimal batch size \",optimalBatch)\n"
      ]
    },
    {
      "cell_type": "code",
      "execution_count": null,
      "metadata": {
        "id": "6ie7U6tObSfj",
        "colab": {
          "base_uri": "https://localhost:8080/"
        },
        "outputId": "0b86d05f-b05b-4111-a67a-445d0e38c867"
      },
      "outputs": [
        {
          "output_type": "stream",
          "name": "stderr",
          "text": [
            "/usr/local/lib/python3.8/dist-packages/torchvision/models/_utils.py:208: UserWarning: The parameter 'pretrained' is deprecated since 0.13 and may be removed in the future, please use 'weights' instead.\n",
            "  warnings.warn(\n",
            "/usr/local/lib/python3.8/dist-packages/torchvision/models/_utils.py:223: UserWarning: Arguments other than a weight enum or `None` for 'weights' are deprecated since 0.13 and may be removed in the future. The current behavior is equivalent to passing `weights=ResNet18_Weights.IMAGENET1K_V1`. You can also use `weights=ResNet18_Weights.DEFAULT` to get the most up-to-date weights.\n",
            "  warnings.warn(msg)\n"
          ]
        },
        {
          "output_type": "stream",
          "name": "stdout",
          "text": [
            "Epoch: Training 5. Loss: 0.2893437147140503. Accuracy: 94.91094147582697\n",
            "Epoch: Validation 5. Loss: 0.286583811044693. Accuracy: 95.49549549549549\n",
            "Epoch: Training 10. Loss: 0.16981031000614166. Accuracy: 97.70992366412214\n",
            "Epoch: Validation 10. Loss: 0.23692019283771515. Accuracy: 95.49549549549549\n",
            "Epoch: Training 15. Loss: 0.12280873209238052. Accuracy: 98.47328244274809\n",
            "Epoch: Validation 15. Loss: 0.22922593355178833. Accuracy: 95.49549549549549\n",
            "Epoch: Training 20. Loss: 0.09575213491916656. Accuracy: 98.9821882951654\n",
            "Epoch: Validation 20. Loss: 0.22851033508777618. Accuracy: 95.49549549549549\n",
            "Epoch: Training 25. Loss: 0.07841994613409042. Accuracy: 99.4910941475827\n",
            "Epoch: Validation 25. Loss: 0.22885340452194214. Accuracy: 95.49549549549549\n",
            "Epoch: Training 30. Loss: 0.06645388156175613. Accuracy: 99.61832061068702\n",
            "Epoch: Validation 30. Loss: 0.22976984083652496. Accuracy: 95.49549549549549\n"
          ]
        }
      ],
      "source": [
        "##Drawing plots with the best hyperparameters on training and validation sets and training the model with tl last time\n",
        "accuracy_list_val_tl = []\n",
        "accuracy_list_train_tl = []\n",
        "\n",
        "loss_val_tl =[]\n",
        "loss_train_tl = []\n",
        "epoch_list_tl = []\n",
        "\n",
        "train_loader = torch.utils.data.DataLoader(train_dataset, batch_size=optimalBatch,\n",
        "                                          shuffle=False)\n",
        "\n",
        "val_loader = torch.utils.data.DataLoader(val_dataset, batch_size=optimalBatch,\n",
        "                                         shuffle=False)\n",
        "\n",
        "modelTL = models.resnet18(pretrained=True)\n",
        "\n",
        "for param in modelTL.parameters():\n",
        "    param.requires_grad = False\n",
        "\n",
        "num_ftrs = modelTL.fc.in_features\n",
        "modelTL.fc = torch.nn.Linear(num_ftrs, 4)\n",
        "\n",
        "criterion = nn.CrossEntropyLoss()\n",
        "optimizer = torch.optim.SGD(modelTL.parameters(), lr = optimalLearn)\n",
        "\n",
        "for i in range (0,max_epoch):\n",
        "    correct = 0\n",
        "    total = 0\n",
        "    loss_t = 0\n",
        "    for j,(images, labels) in enumerate(train_loader):\n",
        "\n",
        "    \n",
        "      images = images.to(device)\n",
        "      labels = labels.to(device)\n",
        "\n",
        "      outputs = modelTL(images)\n",
        "      loss = criterion(outputs, labels.long())\n",
        "\n",
        "      optimizer.zero_grad()\n",
        "      loss.backward()\n",
        "      optimizer.step()\n",
        "\n",
        "      loss_t = loss_t + criterion(outputs, labels.long())\n",
        "      _, predicted = torch.max(outputs.data, 1)\n",
        "\n",
        "      total += labels.size(0)\n",
        "\n",
        "      if torch.cuda.is_available():\n",
        "          correct += (predicted.cpu() == labels.cpu()).sum()\n",
        "      else:\n",
        "          correct += (predicted == labels).sum()\n",
        "        \n",
        "      \n",
        "      if j == len(train_loader) - 1:\n",
        "        accuracy = 100 * correct.item() / total\n",
        "        loss_t = 100 * loss_t / total\n",
        "        accuracy_list_train_tl.append(correct*100/total)\n",
        "        loss_train_tl.append(loss_t.item())\n",
        "        if (i+1) % 5 == 0:\n",
        "          print('Epoch: Training {}. Loss: {}. Accuracy: {}'.format(i+1, loss_t, accuracy))\n",
        "\n",
        "        correctV = 0\n",
        "        totalV = 0\n",
        "        loss_v =0\n",
        "        for images, labels in val_loader:\n",
        "\n",
        "            images = images.to(device)\n",
        "\n",
        "            outputs = modelTL(images)\n",
        "\n",
        "            loss_v = loss_v + criterion(outputs, labels.long())\n",
        "\n",
        "            _, predicted = torch.max(outputs.data, 1)\n",
        "\n",
        "                # Total number of labels\n",
        "            totalV += labels.size(0)\n",
        "\n",
        "            if torch.cuda.is_available():\n",
        "                correctV += (predicted.cpu() == labels.cpu()).sum()\n",
        "            else:\n",
        "                correctV += (predicted == labels).sum()\n",
        "\n",
        "        accuracyV = 100 * correctV.item() / totalV\n",
        "        loss_v = 100 * loss_v / totalV\n",
        "        if (i+1) % 5 == 0:\n",
        "          print('Epoch: Validation {}. Loss: {}. Accuracy: {}'.format(i+1, loss_v, accuracyV))\n",
        "        accuracy_list_val_tl.append(correctV*100/totalV)\n",
        "        loss_val_tl.append(loss_v.item())\n",
        "        epoch_list_tl.append(i+1)"
      ]
    },
    {
      "cell_type": "markdown",
      "metadata": {
        "id": "LW2aqaDEXFds"
      },
      "source": [
        "###Learning Process Analysis [3 points]\n",
        "After training your model, provide two plots summarizing the learning procedure. Like previous parts, you will provide plots for loss value and accuracy progression over epochs. Remember that for each plot, you need to include two curves (one for the training set and one for the validation set)."
      ]
    },
    {
      "cell_type": "code",
      "execution_count": null,
      "metadata": {
        "colab": {
          "base_uri": "https://localhost:8080/",
          "height": 279
        },
        "id": "esWBPBmdlqlA",
        "outputId": "65c61745-8053-4c18-abb6-57b2cf9fab24"
      },
      "outputs": [
        {
          "output_type": "display_data",
          "data": {
            "text/plain": [
              "<Figure size 432x288 with 1 Axes>"
            ],
            "image/png": "[encoded data removed]"
          },
          "metadata": {
            "needs_background": "light"
          }
        }
      ],
      "source": [
        "# TODO: Implement your plots here, you can use matplotlib library to do so.\n",
        "plt.xlabel(\"epoch\")\n",
        "plt.ylabel(\"acc\")\n",
        "\n",
        "plt.plot(epoch_list_tl,accuracy_list_val_tl,label=\"validation\")\n",
        "\n",
        "plt.plot(epoch_list_tl,accuracy_list_train_tl, label = \"training\")\n",
        "\n",
        "plt.legend()\n",
        "\n",
        "plt.show()"
      ]
    },
    {
      "cell_type": "code",
      "execution_count": null,
      "metadata": {
        "colab": {
          "base_uri": "https://localhost:8080/",
          "height": 279
        },
        "id": "vlX0ZlZL--Qk",
        "outputId": "b2698a7a-37bc-4aef-f05a-cc7473770a93"
      },
      "outputs": [
        {
          "output_type": "display_data",
          "data": {
            "text/plain": [
              "<Figure size 432x288 with 1 Axes>"
            ],
            "image/png": "[encoded data removed]"
          },
          "metadata": {
            "needs_background": "light"
          }
        }
      ],
      "source": [
        "plt.xlabel(\"epoch\")\n",
        "plt.ylabel(\"loss\")\n",
        "\n",
        "plt.plot(epoch_list_tl,loss_val_tl,label=\"validation\")\n",
        "\n",
        "plt.plot(epoch_list_tl,loss_train_tl, label = \"training\")\n",
        "\n",
        "#plt.plot(epoch3,acc3, label = \"mini batch ( 64 )\")\n",
        "\n",
        "plt.legend()\n",
        "\n",
        "plt.show()"
      ]
    },
    {
      "cell_type": "markdown",
      "metadata": {
        "id": "o4Y-Qs33XH_G"
      },
      "source": [
        "### Test [4 points]\n",
        "Following your analysis, report the confusion matrix for the best model you obtained (with the criteria you defined). Then, report the accuracy, precision, recall and $F_1$ score for the best model. In all of the metrics, use macro averaging."
      ]
    },
    {
      "cell_type": "code",
      "execution_count": null,
      "metadata": {
        "id": "bsZbLlOD5SvJ",
        "colab": {
          "base_uri": "https://localhost:8080/"
        },
        "outputId": "e3a4aa8c-4620-4cf1-a5ed-caaf7f5b8f2e"
      },
      "outputs": [
        {
          "output_type": "stream",
          "name": "stdout",
          "text": [
            "Accuracy: 0.939\n",
            "Precision: 0.938\n",
            "Recall: 0.938\n",
            "F1 Score: 0.938\n"
          ]
        },
        {
          "output_type": "display_data",
          "data": {
            "text/plain": [
              "<Figure size 432x288 with 2 Axes>"
            ],
            "image/png": "[encoded data removed]"
          },
          "metadata": {
            "needs_background": "light"
          }
        }
      ],
      "source": [
        "# TODO: Implement your evaluation script here, provide the confusion matrix and the requested metrics\n",
        "# TODO: Implement your evaluation script here, provide the confusion matrix and the requested metrics\n",
        "# best model ve scorelar\n",
        "\n",
        "# TODO: Implement your evaluation script here, provide the confusion matrix and the requested metrics\n",
        "from sklearn.metrics import confusion_matrix, ConfusionMatrixDisplay\n",
        "y_true = []\n",
        "y_pred = []\n",
        "for images, labels in test_loader:\n",
        "\n",
        "    images = images.to(device)\n",
        "    outputs = modelTL(images)\n",
        "    y_true.extend(labels)\n",
        "    _, predicted = torch.max(outputs.data, 1)\n",
        "    y_pred.extend(predicted)\n",
        "\n",
        "\n",
        "accuracy = accuracy_score(y_true, y_pred)\n",
        "precision = precision_score(y_true, y_pred,average='macro')\n",
        "recall = recall_score(y_true, y_pred,average='macro')\n",
        "f1 = f1_score(y_true, y_pred,average='macro')\n",
        "\n",
        "print(f'Accuracy: {accuracy:.3f}')\n",
        "print(f'Precision: {precision:.3f}')\n",
        "print(f'Recall: {recall:.3f}')\n",
        "print(f'F1 Score: {f1:.3f}')\n",
        "\n",
        "conf_m =confusion_matrix(y_true, y_pred)\n",
        "\n",
        "conf_graph = ConfusionMatrixDisplay(confusion_matrix= conf_m, display_labels=classes)\n",
        "\n",
        "conf_graph.plot()\n",
        "plt.show()"
      ]
    },
    {
      "cell_type": "markdown",
      "metadata": {
        "id": "47uwNm3NmJDB"
      },
      "source": [
        "### Discussion [3 points]\n",
        "Now discuss the effectiveness of Transfer Learning. How does it improve performance?  "
      ]
    },
    {
      "cell_type": "markdown",
      "source": [
        "By using transfer learning our model gets Accuracy: 0.939, Precision: 0.938, Recall: 0.938, F1 Score: 0.938. Those rates are higher than the rates of first 2 models. With transfer learning our models' accuracy increases directly in first few epoches and loss decreases to small values in first few epoches. We can see that Resnet-18 is an appropriate pretrained model for our classification task as it increases accuracy. It can be said that Resnet-18 had already learned useful features that can be useful for our task. In addition, if the pretrained model was too complex for our classification then we could have seen overfitting and accuracy rate would not be high. "
      ],
      "metadata": {
        "id": "IJlXjWZp8LC7"
      }
    },
    {
      "cell_type": "markdown",
      "metadata": {
        "id": "23y1QPvOVDIF"
      },
      "source": [
        "# References\n",
        "[1] Ajayi, Gbeminiyi (2018), “Multi-class Weather Dataset for Image Classification”, Mendeley Data, V1, doi: 10.17632/4drtyfjtfy.1"
      ]
    }
  ],
  "metadata": {
    "colab": {
      "provenance": []
    },
    "gpuClass": "standard",
    "kernelspec": {
      "display_name": "Python 3",
      "language": "python",
      "name": "python3"
    },
    "language_info": {
      "codemirror_mode": {
        "name": "ipython",
        "version": 3
      },
      "file_extension": ".py",
      "mimetype": "text/x-python",
      "name": "python",
      "nbconvert_exporter": "python",
      "pygments_lexer": "ipython3",
      "version": "3.10.1"
    },
    "vscode": {
      "interpreter": {
        "hash": "f0167832e15be00d9ad0986e98fb6671f5513fb0e4a69955a3c692d56ac34432"
      }
    }
  },
  "nbformat": 4,
  "nbformat_minor": 0
}